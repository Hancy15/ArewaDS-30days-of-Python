{
 "cells": [
  {
   "cell_type": "markdown",
   "metadata": {},
   "source": [
    "Exercises - Day 4"
   ]
  },
  {
   "cell_type": "markdown",
   "metadata": {},
   "source": [
    "No. 1\n",
    "Concatenate the string 'Thirty', 'Days', 'Of', 'Python' to a single string, 'Thirty Days Of Python'."
   ]
  },
  {
   "cell_type": "code",
   "execution_count": 1,
   "metadata": {},
   "outputs": [
    {
     "name": "stdout",
     "output_type": "stream",
     "text": [
      "Thirty Days Of Python\n"
     ]
    }
   ],
   "source": [
    "result = 'Thirty' + ' ' + 'Days' + ' ' + 'Of' + ' ' + 'Python'\n",
    "print(result)\n"
   ]
  },
  {
   "cell_type": "markdown",
   "metadata": {},
   "source": [
    "No. 2\n",
    "Concatenate the string 'Coding', 'For' , 'All' to a single string, 'Coding For All'."
   ]
  },
  {
   "cell_type": "code",
   "execution_count": 2,
   "metadata": {},
   "outputs": [
    {
     "name": "stdout",
     "output_type": "stream",
     "text": [
      "Coding For All\n"
     ]
    }
   ],
   "source": [
    "result = 'Coding' + ' ' + 'For' + ' ' + 'All'\n",
    "print(result)\n"
   ]
  },
  {
   "cell_type": "markdown",
   "metadata": {},
   "source": [
    "No. 3\n",
    "Declare a variable named company and assign it to an initial value \"Coding For All\"."
   ]
  },
  {
   "cell_type": "code",
   "execution_count": 3,
   "metadata": {},
   "outputs": [],
   "source": [
    "company = \"Coding For All\"\n"
   ]
  },
  {
   "cell_type": "markdown",
   "metadata": {},
   "source": [
    "No. 4\n",
    "Print the variable company using print()."
   ]
  },
  {
   "cell_type": "code",
   "execution_count": 4,
   "metadata": {},
   "outputs": [
    {
     "name": "stdout",
     "output_type": "stream",
     "text": [
      "Coding For All\n"
     ]
    }
   ],
   "source": [
    "print(company)"
   ]
  },
  {
   "cell_type": "markdown",
   "metadata": {},
   "source": [
    "No. 5 Print the length of the company string using len() method and print()."
   ]
  },
  {
   "cell_type": "code",
   "execution_count": 5,
   "metadata": {},
   "outputs": [
    {
     "name": "stdout",
     "output_type": "stream",
     "text": [
      "Length of the company string: 14\n"
     ]
    }
   ],
   "source": [
    "company = \"Coding For All\"\n",
    "length_of_company = len(company)\n",
    "\n",
    "print(\"Length of the company string:\", length_of_company)\n"
   ]
  },
  {
   "cell_type": "markdown",
   "metadata": {},
   "source": [
    "No. 6 Change all the characters to uppercase letters using upper() method."
   ]
  },
  {
   "cell_type": "code",
   "execution_count": 6,
   "metadata": {},
   "outputs": [
    {
     "name": "stdout",
     "output_type": "stream",
     "text": [
      "Uppercase version of the company string: CODING FOR ALL\n"
     ]
    }
   ],
   "source": [
    "company = \"Coding For All\"\n",
    "uppercase_company = company.upper()\n",
    "\n",
    "print(\"Uppercase version of the company string:\", uppercase_company)\n"
   ]
  },
  {
   "cell_type": "markdown",
   "metadata": {},
   "source": [
    "No. 7 Change all the characters to lowercase letters using lower() method."
   ]
  },
  {
   "cell_type": "code",
   "execution_count": 7,
   "metadata": {},
   "outputs": [
    {
     "name": "stdout",
     "output_type": "stream",
     "text": [
      "Lowercase version of the company string: coding for all\n"
     ]
    }
   ],
   "source": [
    "company = \"Coding For All\"\n",
    "lowercase_company = company.lower()\n",
    "\n",
    "print(\"Lowercase version of the company string:\", lowercase_company)\n"
   ]
  },
  {
   "cell_type": "markdown",
   "metadata": {},
   "source": [
    "No. 8 Use capitalize(), title(), swapcase() methods to format the value of the string Coding For All."
   ]
  },
  {
   "cell_type": "code",
   "execution_count": 8,
   "metadata": {},
   "outputs": [
    {
     "name": "stdout",
     "output_type": "stream",
     "text": [
      "Capitalized version: Coding for all\n",
      "Titlecased version: Coding For All\n",
      "Swapped case version: cODING fOR aLL\n"
     ]
    }
   ],
   "source": [
    "company = \"Coding For All\"\n",
    "\n",
    "# Capitalize the first letter of the string\n",
    "capitalized_company = company.capitalize()\n",
    "print(\"Capitalized version:\", capitalized_company)\n",
    "\n",
    "# Convert the first letter of each word to uppercase\n",
    "title_company = company.title()\n",
    "print(\"Titlecased version:\", title_company)\n",
    "\n",
    "# Swap the case of each character in the string\n",
    "swapcase_company = company.swapcase()\n",
    "print(\"Swapped case version:\", swapcase_company)\n"
   ]
  },
  {
   "cell_type": "markdown",
   "metadata": {},
   "source": [
    "No. 9 Cut(slice) out the first word of Coding For All string."
   ]
  },
  {
   "cell_type": "code",
   "execution_count": 9,
   "metadata": {},
   "outputs": [
    {
     "name": "stdout",
     "output_type": "stream",
     "text": [
      "First word: Coding\n"
     ]
    }
   ],
   "source": [
    "company = \"Coding For All\"\n",
    "first_word = company.split()[0]\n",
    "\n",
    "print(\"First word:\", first_word)\n"
   ]
  },
  {
   "cell_type": "markdown",
   "metadata": {},
   "source": [
    "No. 10 Check if Coding For All string contains a word Coding using the method index, find or other methods."
   ]
  },
  {
   "cell_type": "code",
   "execution_count": 10,
   "metadata": {},
   "outputs": [
    {
     "name": "stdout",
     "output_type": "stream",
     "text": [
      "The word 'Coding' is present at index: 0\n"
     ]
    }
   ],
   "source": [
    "company = \"Coding For All\"\n",
    "index_of_coding = company.find(\"Coding\")\n",
    "\n",
    "if index_of_coding != -1:\n",
    "    print(\"The word 'Coding' is present at index:\", index_of_coding)\n",
    "else:\n",
    "    print(\"The word 'Coding' is not present in the string.\")\n"
   ]
  },
  {
   "cell_type": "markdown",
   "metadata": {},
   "source": [
    "No. 11 Replace the word coding in the string 'Coding For All' to Python."
   ]
  },
  {
   "cell_type": "code",
   "execution_count": 11,
   "metadata": {},
   "outputs": [
    {
     "name": "stdout",
     "output_type": "stream",
     "text": [
      "Updated string: Python For All\n"
     ]
    }
   ],
   "source": [
    "company = \"Coding For All\"\n",
    "updated_company = company.replace(\"Coding\", \"Python\")\n",
    "\n",
    "print(\"Updated string:\", updated_company)\n"
   ]
  },
  {
   "cell_type": "markdown",
   "metadata": {},
   "source": [
    "No. 12 Change Python for Everyone to Python for All using the replace method or other methods."
   ]
  },
  {
   "cell_type": "code",
   "execution_count": 12,
   "metadata": {},
   "outputs": [
    {
     "name": "stdout",
     "output_type": "stream",
     "text": [
      "Updated text: Python for All\n"
     ]
    }
   ],
   "source": [
    "original_text = \"Python for Everyone\"\n",
    "updated_text = original_text.replace(\"Everyone\", \"All\")\n",
    "\n",
    "print(\"Updated text:\", updated_text)\n"
   ]
  },
  {
   "cell_type": "markdown",
   "metadata": {},
   "source": [
    "No. 13 Split the string 'Coding For All' using space as the separator (split()) "
   ]
  },
  {
   "cell_type": "code",
   "execution_count": 13,
   "metadata": {},
   "outputs": [
    {
     "name": "stdout",
     "output_type": "stream",
     "text": [
      "List of words: ['Coding', 'For', 'All']\n"
     ]
    }
   ],
   "source": [
    "company = \"Coding For All\"\n",
    "word_list = company.split()\n",
    "\n",
    "print(\"List of words:\", word_list)\n"
   ]
  },
  {
   "cell_type": "markdown",
   "metadata": {},
   "source": [
    "No. 14 \"Facebook, Google, Microsoft, Apple, IBM, Oracle, Amazon\" split the string at the comma."
   ]
  },
  {
   "cell_type": "code",
   "execution_count": 14,
   "metadata": {},
   "outputs": [
    {
     "name": "stdout",
     "output_type": "stream",
     "text": [
      "List of companies: ['Facebook', 'Google', 'Microsoft', 'Apple', 'IBM', 'Oracle', 'Amazon']\n"
     ]
    }
   ],
   "source": [
    "companies = \"Facebook, Google, Microsoft, Apple, IBM, Oracle, Amazon\"\n",
    "company_list = companies.split(', ')\n",
    "\n",
    "print(\"List of companies:\", company_list)\n"
   ]
  },
  {
   "cell_type": "markdown",
   "metadata": {},
   "source": [
    "No. 15 What is the character at index 0 in the string Coding For All."
   ]
  },
  {
   "cell_type": "code",
   "execution_count": 15,
   "metadata": {},
   "outputs": [
    {
     "name": "stdout",
     "output_type": "stream",
     "text": [
      "Character at index 0: C\n"
     ]
    }
   ],
   "source": [
    "company = \"Coding For All\"\n",
    "character_at_index_0 = company[0]\n",
    "\n",
    "print(\"Character at index 0:\", character_at_index_0)\n"
   ]
  },
  {
   "cell_type": "markdown",
   "metadata": {},
   "source": [
    "No. 16 What is the last index of the string Coding For All."
   ]
  },
  {
   "cell_type": "code",
   "execution_count": 16,
   "metadata": {},
   "outputs": [
    {
     "name": "stdout",
     "output_type": "stream",
     "text": [
      "Last character at index -1: l\n"
     ]
    }
   ],
   "source": [
    "company = \"Coding For All\"\n",
    "last_character = company[-1]\n",
    "\n",
    "print(\"Last character at index -1:\", last_character)\n"
   ]
  },
  {
   "cell_type": "markdown",
   "metadata": {},
   "source": [
    "No. 17 What character is at index 10 in \"Coding For All\" string."
   ]
  },
  {
   "cell_type": "code",
   "execution_count": 17,
   "metadata": {},
   "outputs": [
    {
     "name": "stdout",
     "output_type": "stream",
     "text": [
      "Character at index 10:  \n"
     ]
    }
   ],
   "source": [
    "company = \"Coding For All\"\n",
    "character_at_index_10 = company[10]\n",
    "\n",
    "print(\"Character at index 10:\", character_at_index_10)\n"
   ]
  },
  {
   "cell_type": "markdown",
   "metadata": {},
   "source": [
    "No. 18 Create an acronym or an abbreviation for the name 'Python For Everyone'."
   ]
  },
  {
   "cell_type": "code",
   "execution_count": 18,
   "metadata": {},
   "outputs": [
    {
     "name": "stdout",
     "output_type": "stream",
     "text": [
      "Acronym: PFE\n"
     ]
    }
   ],
   "source": [
    "name = \"Python For Everyone\"\n",
    "acronym = \"\".join(word[0] for word in name.split())\n",
    "print(\"Acronym:\", acronym)\n"
   ]
  },
  {
   "cell_type": "markdown",
   "metadata": {},
   "source": [
    "No. 19 Create an acronym or an abbreviation for the name 'Coding For All'."
   ]
  },
  {
   "cell_type": "code",
   "execution_count": 19,
   "metadata": {},
   "outputs": [
    {
     "name": "stdout",
     "output_type": "stream",
     "text": [
      "Acronym: CFA\n"
     ]
    }
   ],
   "source": [
    "name = \"Coding For All\"\n",
    "acronym = \"\".join(word[0] for word in name.split())\n",
    "print(\"Acronym:\", acronym)\n"
   ]
  },
  {
   "cell_type": "markdown",
   "metadata": {},
   "source": [
    "No. 20 Use index to determine the position of the first occurrence of C in Coding For All."
   ]
  },
  {
   "cell_type": "code",
   "execution_count": 20,
   "metadata": {},
   "outputs": [
    {
     "name": "stdout",
     "output_type": "stream",
     "text": [
      "Position of the first occurrence of 'C': 0\n"
     ]
    }
   ],
   "source": [
    "text = \"Coding For All\"\n",
    "position_of_C = text.index('C')\n",
    "\n",
    "print(\"Position of the first occurrence of 'C':\", position_of_C)\n"
   ]
  },
  {
   "cell_type": "markdown",
   "metadata": {},
   "source": [
    "No. 21 Use index to determine the position of the first occurrence of F in Coding For All."
   ]
  },
  {
   "cell_type": "code",
   "execution_count": 21,
   "metadata": {},
   "outputs": [
    {
     "name": "stdout",
     "output_type": "stream",
     "text": [
      "Position of the first occurrence of 'F': 7\n"
     ]
    }
   ],
   "source": [
    "text = \"Coding For All\"\n",
    "position_of_F = text.index('F')\n",
    "\n",
    "print(\"Position of the first occurrence of 'F':\", position_of_F)\n"
   ]
  },
  {
   "cell_type": "markdown",
   "metadata": {},
   "source": [
    "No. 22 Use rfind to determine the position of the last occurrence of l in Coding For All People."
   ]
  },
  {
   "cell_type": "code",
   "execution_count": 22,
   "metadata": {},
   "outputs": [
    {
     "name": "stdout",
     "output_type": "stream",
     "text": [
      "Position of the last occurrence of 'l': 19\n"
     ]
    }
   ],
   "source": [
    "text = \"Coding For All People\"\n",
    "position_of_last_l = text.rfind('l')\n",
    "\n",
    "print(\"Position of the last occurrence of 'l':\", position_of_last_l)\n"
   ]
  },
  {
   "cell_type": "markdown",
   "metadata": {},
   "source": [
    "No. 23 Use index or find to find the position of the first occurrence of the word 'because' in the following sentence: 'You cannot end a sentence with because because because is a conjunction'"
   ]
  },
  {
   "cell_type": "code",
   "execution_count": 23,
   "metadata": {},
   "outputs": [
    {
     "name": "stdout",
     "output_type": "stream",
     "text": [
      "Position of the first occurrence of 'because': 31\n"
     ]
    }
   ],
   "source": [
    "sentence = 'You cannot end a sentence with because because because is a conjunction'\n",
    "position_of_because = sentence.index('because')\n",
    "\n",
    "print(\"Position of the first occurrence of 'because':\", position_of_because)\n"
   ]
  },
  {
   "cell_type": "markdown",
   "metadata": {},
   "source": [
    "No. 24 Use rindex to find the position of the last occurrence of the word because in the following sentence: 'You cannot end a sentence with because because because is a conjunction'"
   ]
  },
  {
   "cell_type": "code",
   "execution_count": 24,
   "metadata": {},
   "outputs": [
    {
     "name": "stdout",
     "output_type": "stream",
     "text": [
      "Position of the last occurrence of 'because': 47\n"
     ]
    }
   ],
   "source": [
    "sentence = 'You cannot end a sentence with because because because is a conjunction'\n",
    "position_of_last_because = sentence.rindex('because')\n",
    "\n",
    "print(\"Position of the last occurrence of 'because':\", position_of_last_because)\n"
   ]
  },
  {
   "cell_type": "markdown",
   "metadata": {},
   "source": [
    "No. 25 Slice out the phrase 'because because because' in the following sentence: 'You cannot end a sentence with because because because is a conjunction'"
   ]
  },
  {
   "cell_type": "code",
   "execution_count": 25,
   "metadata": {},
   "outputs": [
    {
     "name": "stdout",
     "output_type": "stream",
     "text": [
      "Extracted phrase: h because because because\n"
     ]
    }
   ],
   "source": [
    "sentence = 'You cannot end a sentence with because because because is a conjunction'\n",
    "phrase = sentence[29:54]\n",
    "\n",
    "print(\"Extracted phrase:\", phrase)\n"
   ]
  },
  {
   "cell_type": "markdown",
   "metadata": {},
   "source": [
    "No. 26 ind the position of the first occurrence of the word 'because' in the following sentence: 'You cannot end a sentence with because because because is a conjunction'"
   ]
  },
  {
   "cell_type": "code",
   "execution_count": 26,
   "metadata": {},
   "outputs": [
    {
     "name": "stdout",
     "output_type": "stream",
     "text": [
      "Position of the first occurrence of 'because': 31\n"
     ]
    }
   ],
   "source": [
    "sentence = 'You cannot end a sentence with because because because is a conjunction'\n",
    "position_of_because = sentence.find('because')\n",
    "\n",
    "print(\"Position of the first occurrence of 'because':\", position_of_because)\n"
   ]
  },
  {
   "cell_type": "markdown",
   "metadata": {},
   "source": [
    "No. 27 Slice out the phrase 'because because because' in the following sentence: 'You cannot end a sentence with because because because is a conjunction'"
   ]
  },
  {
   "cell_type": "code",
   "execution_count": 27,
   "metadata": {},
   "outputs": [
    {
     "name": "stdout",
     "output_type": "stream",
     "text": [
      "Sliced phrase:  because because because\n"
     ]
    }
   ],
   "source": [
    "sentence = 'You cannot end a sentence with because because because is a conjunction'\n",
    "phrase = sentence[30:54]\n",
    "\n",
    "print(\"Sliced phrase:\", phrase)\n"
   ]
  },
  {
   "cell_type": "markdown",
   "metadata": {},
   "source": [
    "No. 28 Does ''Coding For All' start with a substring Coding? "
   ]
  },
  {
   "cell_type": "code",
   "execution_count": 28,
   "metadata": {},
   "outputs": [
    {
     "name": "stdout",
     "output_type": "stream",
     "text": [
      "The string starts with 'Coding'\n"
     ]
    }
   ],
   "source": [
    "text = 'Coding For All'\n",
    "starts_with_coding = text.startswith('Coding')\n",
    "\n",
    "if starts_with_coding:\n",
    "    print(\"The string starts with 'Coding'\")\n",
    "else:\n",
    "    print(\"The string does not start with 'Coding'\")\n"
   ]
  },
  {
   "cell_type": "markdown",
   "metadata": {},
   "source": [
    "No. 29 Does 'Coding For All' end with a substring coding?"
   ]
  },
  {
   "cell_type": "code",
   "execution_count": 29,
   "metadata": {},
   "outputs": [
    {
     "name": "stdout",
     "output_type": "stream",
     "text": [
      "The string does not end with 'coding'\n"
     ]
    }
   ],
   "source": [
    "text = 'Coding For All'\n",
    "ends_with_coding = text.lower().endswith('coding')\n",
    "\n",
    "if ends_with_coding:\n",
    "    print(\"The string ends with 'coding'\")\n",
    "else:\n",
    "    print(\"The string does not end with 'coding'\")\n"
   ]
  },
  {
   "cell_type": "markdown",
   "metadata": {},
   "source": [
    "No. 30 '   Coding For All      '  , remove the left and right trailing spaces in the given string."
   ]
  },
  {
   "cell_type": "code",
   "execution_count": 30,
   "metadata": {},
   "outputs": [
    {
     "name": "stdout",
     "output_type": "stream",
     "text": [
      "Trimmed string: Coding For All\n"
     ]
    }
   ],
   "source": [
    "text = '   Coding For All      '\n",
    "trimmed_text = text.strip()\n",
    "\n",
    "print(\"Trimmed string:\", trimmed_text)\n"
   ]
  },
  {
   "cell_type": "markdown",
   "metadata": {},
   "source": [
    "No. 31 Which one of the following variables return True when we use the method isidentifier():\n",
    "30DaysOfPython\n",
    "thirty_days_of_python"
   ]
  },
  {
   "cell_type": "code",
   "execution_count": 31,
   "metadata": {},
   "outputs": [
    {
     "name": "stdout",
     "output_type": "stream",
     "text": [
      "Is '30DaysOfPython' a valid identifier? False\n",
      "Is 'thirty_days_of_python' a valid identifier? True\n"
     ]
    }
   ],
   "source": [
    "# Variables\n",
    "variable1 = \"30DaysOfPython\"\n",
    "variable2 = \"thirty_days_of_python\"\n",
    "\n",
    "# Check if they are valid identifiers\n",
    "result1 = variable1.isidentifier()\n",
    "result2 = variable2.isidentifier()\n",
    "\n",
    "# Output the results\n",
    "print(f\"Is '{variable1}' a valid identifier? {result1}\")\n",
    "print(f\"Is '{variable2}' a valid identifier? {result2}\")\n",
    "\n",
    "# the variables that will show True when we used the isidentifier() method\n",
    "#Is '30DaysOfPython' a valid identifier? False\n",
    "#Is 'thirty_days_of_python' a valid identifier? True\n",
    "\n"
   ]
  },
  {
   "cell_type": "markdown",
   "metadata": {},
   "source": [
    "No. 32 The following list contains the names of some of python libraries: ['Django', 'Flask', 'Bottle', 'Pyramid', 'Falcon']. Join the list with a hash with space string."
   ]
  },
  {
   "cell_type": "code",
   "execution_count": 32,
   "metadata": {},
   "outputs": [
    {
     "name": "stdout",
     "output_type": "stream",
     "text": [
      "Joined string: Django # Flask # Bottle # Pyramid # Falcon\n"
     ]
    }
   ],
   "source": [
    "libraries = ['Django', 'Flask', 'Bottle', 'Pyramid', 'Falcon']\n",
    "joined_libraries = ' # '.join(libraries)\n",
    "\n",
    "print(\"Joined string:\", joined_libraries)\n"
   ]
  },
  {
   "cell_type": "markdown",
   "metadata": {},
   "source": [
    "No. 33 Use the new line escape sequence to separate the following sentences.\n",
    "I am enjoying this challenge.\n",
    "I just wonder what is next."
   ]
  },
  {
   "cell_type": "code",
   "execution_count": 33,
   "metadata": {},
   "outputs": [
    {
     "name": "stdout",
     "output_type": "stream",
     "text": [
      "I am enjoying this challenge.\n",
      "I just wonder what is next.\n"
     ]
    }
   ],
   "source": [
    "sentence1 = \"I am enjoying this challenge.\"\n",
    "sentence2 = \"I just wonder what is next.\"\n",
    "\n",
    "combined_text = sentence1 + '\\n' + sentence2\n",
    "\n",
    "print(combined_text)\n"
   ]
  },
  {
   "cell_type": "markdown",
   "metadata": {},
   "source": [
    "No. 34 Use a tab escape sequence to write the following lines.\n",
    "Name      Age     Country   City\n",
    "Asabeneh  250     Finland   Helsinki"
   ]
  },
  {
   "cell_type": "code",
   "execution_count": 34,
   "metadata": {},
   "outputs": [
    {
     "name": "stdout",
     "output_type": "stream",
     "text": [
      "Name\tAge\tCountry\tCity\n",
      "Asabeneh\t250\tFinland\tHelsinki\n"
     ]
    }
   ],
   "source": [
    "header = \"Name\\tAge\\tCountry\\tCity\"\n",
    "data = \"Asabeneh\\t250\\tFinland\\tHelsinki\"\n",
    "\n",
    "print(header)\n",
    "print(data)\n"
   ]
  },
  {
   "cell_type": "markdown",
   "metadata": {},
   "source": [
    "No. 35 Use the string formatting method to display the following:\n",
    "radius = 10\n",
    "area = 3.14 * radius ** 2\n",
    "The area of a circle with radius 10 is 314 meters square."
   ]
  },
  {
   "cell_type": "code",
   "execution_count": 35,
   "metadata": {},
   "outputs": [
    {
     "name": "stdout",
     "output_type": "stream",
     "text": [
      "The area of a circle with radius 10 is 314.0 square meters.\n"
     ]
    }
   ],
   "source": [
    "radius = 10\n",
    "area = 3.14 * radius ** 2\n",
    "\n",
    "result = \"The area of a circle with radius {} is {} square meters.\".format(radius, area)\n",
    "\n",
    "print(result)\n"
   ]
  },
  {
   "cell_type": "markdown",
   "metadata": {},
   "source": [
    "No. 36 Make the following using string formatting methods:\n",
    "8 + 6 = 14\n",
    "8 - 6 = 2\n",
    "8 * 6 = 48\n",
    "8 / 6 = 1.33\n",
    "8 % 6 = 2\n",
    "8 // 6 = 1\n",
    "8 ** 6 = 262144"
   ]
  },
  {
   "cell_type": "code",
   "execution_count": 36,
   "metadata": {},
   "outputs": [
    {
     "name": "stdout",
     "output_type": "stream",
     "text": [
      "8 + 6 = 14\n",
      "8 - 6 = 2\n",
      "8 * 6 = 48\n",
      "8 / 6 = 1.33\n",
      "8 % 6 = 2\n",
      "8 // 6 = 1\n",
      "8 ** 6 = 262144\n"
     ]
    }
   ],
   "source": [
    "num1 = 8\n",
    "num2 = 6\n",
    "\n",
    "addition_result = \"{} + {} = {}\".format(num1, num2, num1 + num2)\n",
    "subtraction_result = \"{} - {} = {}\".format(num1, num2, num1 - num2)\n",
    "multiplication_result = \"{} * {} = {}\".format(num1, num2, num1 * num2)\n",
    "division_result = \"{} / {} = {:.2f}\".format(num1, num2, num1 / num2)\n",
    "modulo_result = \"{} % {} = {}\".format(num1, num2, num1 % num2)\n",
    "floor_division_result = \"{} // {} = {}\".format(num1, num2, num1 // num2)\n",
    "exponential_result = \"{} ** {} = {}\".format(num1, num2, num1 ** num2)\n",
    "\n",
    "print(addition_result)\n",
    "print(subtraction_result)\n",
    "print(multiplication_result)\n",
    "print(division_result)\n",
    "print(modulo_result)\n",
    "print(floor_division_result)\n",
    "print(exponential_result)\n"
   ]
  }
 ],
 "metadata": {
  "kernelspec": {
   "display_name": "Python 3",
   "language": "python",
   "name": "python3"
  },
  "language_info": {
   "codemirror_mode": {
    "name": "ipython",
    "version": 3
   },
   "file_extension": ".py",
   "mimetype": "text/x-python",
   "name": "python",
   "nbconvert_exporter": "python",
   "pygments_lexer": "ipython3",
   "version": "3.11.5"
  }
 },
 "nbformat": 4,
 "nbformat_minor": 2
}
