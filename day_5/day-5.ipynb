{
 "cells": [
  {
   "cell_type": "markdown",
   "metadata": {},
   "source": [
    " No. 1 Declare an empty list"
   ]
  },
  {
   "cell_type": "code",
   "execution_count": null,
   "metadata": {},
   "outputs": [],
   "source": [
    "empty_list = []\n",
    "\n",
    ""
   ]
  },
  {
   "cell_type": "markdown",
   "metadata": {},
   "source": [
    " No. 2 Declare a list with more than 5 items"
   ]
  },
  {
   "cell_type": "code",
   "execution_count": null,
   "metadata": {},
   "outputs": [],
   "source": [
    "my_list = [1, 2, 'apple', 3.14, True, \"banana\", 7, 'orange']\n",
    "\n",
    ""
   ]
  },
  {
   "cell_type": "markdown",
   "metadata": {},
   "source": [
    " No. 3 Find the length of your list"
   ]
  },
  {
   "cell_type": "code",
   "execution_count": null,
   "metadata": {},
   "outputs": [],
   "source": [
    "my_list = [1, 2, 'apple', 3.14, True, \"banana\", 7, 'orange']\n",
    "\n",
    "length_of_list = len(my_list)\n",
    "\n",
    "print(\"The length of the list is:\", length_of_list)\n",
    "\n",
    ""
   ]
  },
  {
   "cell_type": "markdown",
   "metadata": {},
   "source": [
    " No. 4 Get the first item, the middle item and the last item of the list"
   ]
  },
  {
   "cell_type": "code",
   "execution_count": null,
   "metadata": {},
   "outputs": [],
   "source": [
    "my_list = [1, 2, 'apple', 3.14, True, \"banana\", 7, 'orange']\n",
    "\n",
    "# Get the first item\n",
    "first_item = my_list[0]\n",
    "\n",
    "# Get the middle item\n",
    "middle_item_index = len(my_list) // 2\n",
    "middle_item = my_list[middle_item_index]\n",
    "\n",
    "# Get the last item\n",
    "last_item = my_list[-1]\n",
    "\n",
    "print(\"First item:\", first_item)\n",
    "print(\"Middle item:\", middle_item)\n",
    "print(\"Last item:\", last_item)\n",
    "\n",
    ""
   ]
  },
  {
   "cell_type": "markdown",
   "metadata": {},
   "source": [
    " No. 5 Declare a list called mixed_data_types, put your(name, age, height, marital status, address)"
   ]
  },
  {
   "cell_type": "code",
   "execution_count": null,
   "metadata": {},
   "outputs": [],
   "source": [
    "mixed_data_types = [\"Your Name\", 25, 1.75, \"Married\", \"123 Main Street, Cityville\"]\n",
    "\n",
    "# Accessing elements in the list\n",
    "name = mixed_data_types[0]\n",
    "age = mixed_data_types[1]\n",
    "height = mixed_data_types[2]\n",
    "marital_status = mixed_data_types[3]\n",
    "address = mixed_data_types[4]\n",
    "\n",
    "# Displaying the elements\n",
    "print(\"Name:\", name)\n",
    "print(\"Age:\", age)\n",
    "print(\"Height:\", height)\n",
    "print(\"Marital Status:\", marital_status)\n",
    "print(\"Address:\", address)\n",
    "\n",
    ""
   ]
  },
  {
   "cell_type": "markdown",
   "metadata": {},
   "source": [
    " No. 6 Declare a list variable named it_companies and assign initial values Facebook, Google, Microsoft, Apple, IBM, Oracle and Amazon."
   ]
  },
  {
   "cell_type": "code",
   "execution_count": null,
   "metadata": {},
   "outputs": [],
   "source": [
    "it_companies = [\"Facebook\", \"Google\", \"Microsoft\", \"Apple\", \"IBM\", \"Oracle\", \"Amazon\"]\n",
    "\n",
    "# Displaying the list\n",
    "print(\"List of IT Companies:\", it_companies)\n",
    "\n",
    ""
   ]
  },
  {
   "cell_type": "markdown",
   "metadata": {},
   "source": [
    " No. 7 Print the list using print()"
   ]
  },
  {
   "cell_type": "code",
   "execution_count": null,
   "metadata": {},
   "outputs": [],
   "source": [
    "it_companies = [\"Facebook\", \"Google\", \"Microsoft\", \"Apple\", \"IBM\", \"Oracle\", \"Amazon\"]\n",
    "\n",
    "# Displaying the list\n",
    "print(\"List of IT Companies:\", it_companies)\n",
    "\n",
    ""
   ]
  },
  {
   "cell_type": "markdown",
   "metadata": {},
   "source": [
    " No. 8 Print the number of companies in the list"
   ]
  },
  {
   "cell_type": "code",
   "execution_count": null,
   "metadata": {},
   "outputs": [],
   "source": [
    "it_companies = [\"Facebook\", \"Google\", \"Microsoft\", \"Apple\", \"IBM\", \"Oracle\", \"Amazon\"]\n",
    "\n",
    "# Find the number of companies in the list\n",
    "num_companies = len(it_companies)\n",
    "\n",
    "# Displaying the number of companies\n",
    "print(\"Number of IT Companies:\", num_companies)\n",
    "\n",
    ""
   ]
  },
  {
   "cell_type": "markdown",
   "metadata": {},
   "source": [
    " No. 9 Print the first, middle and last company"
   ]
  },
  {
   "cell_type": "code",
   "execution_count": null,
   "metadata": {},
   "outputs": [],
   "source": [
    "it_companies = [\"Facebook\", \"Google\", \"Microsoft\", \"Apple\", \"IBM\", \"Oracle\", \"Amazon\"]\n",
    "\n",
    "# Get the first company\n",
    "first_company = it_companies[0]\n",
    "\n",
    "# Get the middle company\n",
    "middle_company_index = len(it_companies) // 2\n",
    "middle_company = it_companies[middle_company_index]\n",
    "\n",
    "# Get the last company\n",
    "last_company = it_companies[-1]\n",
    "\n",
    "# Displaying the companies\n",
    "print(\"First Company:\", first_company)\n",
    "print(\"Middle Company:\", middle_company)\n",
    "print(\"Last Company:\", last_company)\n",
    "\n",
    ""
   ]
  },
  {
   "cell_type": "markdown",
   "metadata": {},
   "source": [
    " No. 10 Print the list after modifying one of the companies"
   ]
  },
  {
   "cell_type": "code",
   "execution_count": null,
   "metadata": {},
   "outputs": [],
   "source": [
    "it_companies = [\"Facebook\", \"Google\", \"Microsoft\", \"Apple\", \"IBM\", \"Oracle\", \"Amazon\"]\n",
    "\n",
    "# Modify one of the companies\n",
    "it_companies[4] = \"Intel\"\n",
    "\n",
    "# Displaying the modified list\n",
    "print(\"Updated List of IT Companies:\", it_companies)\n",
    "\n",
    ""
   ]
  },
  {
   "cell_type": "markdown",
   "metadata": {},
   "source": [
    " No. 11 Add an IT company to it_companies"
   ]
  },
  {
   "cell_type": "code",
   "execution_count": null,
   "metadata": {},
   "outputs": [],
   "source": [
    "it_companies = [\"Facebook\", \"Google\", \"Microsoft\", \"Apple\", \"Intel\", \"Oracle\", \"Amazon\"]\n",
    "\n",
    "# Add a new IT company to the end of the list\n",
    "it_companies.append(\"Cisco\")\n",
    "\n",
    "# Displaying the updated list\n",
    "print(\"Updated List of IT Companies:\", it_companies)\n",
    "\n",
    ""
   ]
  },
  {
   "cell_type": "markdown",
   "metadata": {},
   "source": [
    " No. 12 Insert an IT company in the middle of the companies list"
   ]
  },
  {
   "cell_type": "code",
   "execution_count": null,
   "metadata": {},
   "outputs": [],
   "source": [
    "it_companies = [\"Facebook\", \"Google\", \"Microsoft\", \"Apple\", \"Intel\", \"Oracle\", \"Amazon\"]\n",
    "\n",
    "# Insert a new IT company in the middle of the list\n",
    "new_company = \"Dell\"\n",
    "middle_index = len(it_companies) // 2\n",
    "it_companies.insert(middle_index, new_company)\n",
    "\n",
    "# Displaying the updated list\n",
    "print(\"Updated List of IT Companies:\", it_companies)\n",
    "\n",
    ""
   ]
  },
  {
   "cell_type": "markdown",
   "metadata": {},
   "source": [
    " No. 13 Change one of the it_companies names to uppercase (IBM excluded!)"
   ]
  },
  {
   "cell_type": "code",
   "execution_count": null,
   "metadata": {},
   "outputs": [],
   "source": [
    "it_companies = [\"Facebook\", \"Google\", \"Microsoft\", \"Apple\", \"Intel\", \"Oracle\", \"Amazon\"]\n",
    "\n",
    "# Change the name of one IT company to uppercase (excluding \"IBM\")\n",
    "company_to_change = \"Google\"\n",
    "index_to_change = it_companies.index(company_to_change)\n",
    "\n",
    "# Check if the company is not \"IBM\" before changing to uppercase\n",
    "if company_to_change != \"IBM\":\n",
    "    it_companies[index_to_change] = company_to_change.upper()\n",
    "\n",
    "# Displaying the updated list\n",
    "print(\"Updated List of IT Companies:\", it_companies)\n",
    ""
   ]
  },
  {
   "cell_type": "markdown",
   "metadata": {},
   "source": [
    " No. 14 Join the it_companies with a string '#;"
   ]
  },
  {
   "cell_type": "code",
   "execution_count": null,
   "metadata": {},
   "outputs": [],
   "source": [
    "it_companies = [\"Facebook\", \"Google\", \"Microsoft\", \"Apple\", \"Intel\", \"Oracle\", \"Amazon\"]\n",
    "\n",
    "# Join the IT companies with the specified separator\n",
    "joined_companies = '#; '.join(it_companies)\n",
    "\n",
    "# Displaying the joined string\n",
    "print(\"Joined IT Companies:\", joined_companies)\n",
    "\n",
    ""
   ]
  },
  {
   "cell_type": "markdown",
   "metadata": {},
   "source": [
    " No. 15 Check if a certain company exists in the it_companies list."
   ]
  },
  {
   "cell_type": "code",
   "execution_count": null,
   "metadata": {},
   "outputs": [],
   "source": [
    "it_companies = [\"Facebook\", \"Google\", \"Microsoft\", \"Apple\", \"Intel\", \"Oracle\", \"Amazon\"]\n",
    "\n",
    "# Check if a certain company exists in the list\n",
    "company_to_check = \"Microsoft\"\n",
    "if company_to_check in it_companies:\n",
    "    print(f\"{company_to_check} exists in the list.\")\n",
    "else:\n",
    "    print(f\"{company_to_check} does not exist in the list.\")\n",
    "\n",
    ""
   ]
  },
  {
   "cell_type": "markdown",
   "metadata": {},
   "source": [
    " No. 16 Sort the list using sort() method"
   ]
  },
  {
   "cell_type": "code",
   "execution_count": null,
   "metadata": {},
   "outputs": [],
   "source": [
    "it_companies = [\"Facebook\", \"Google\", \"Microsoft\", \"Apple\", \"Intel\", \"Oracle\", \"Amazon\"]\n",
    "\n",
    "# Sort the IT companies list\n",
    "it_companies.sort()\n",
    "\n",
    "# Displaying the sorted list\n",
    "print(\"Sorted IT Companies:\", it_companies)\n",
    "\n",
    ""
   ]
  },
  {
   "cell_type": "markdown",
   "metadata": {},
   "source": [
    " No. 17 Reverse the list in descending order using reverse() method"
   ]
  },
  {
   "cell_type": "code",
   "execution_count": null,
   "metadata": {},
   "outputs": [],
   "source": [
    "it_companies = [\"Facebook\", \"Google\", \"Microsoft\", \"Apple\", \"Intel\", \"Oracle\", \"Amazon\"]\n",
    "\n",
    "# Sort the IT companies list in descending order\n",
    "it_companies.sort(reverse=True)\n",
    "\n",
    "# Reverse the sorted list\n",
    "it_companies.reverse()\n",
    "\n",
    "# Displaying the reversed list\n",
    "print(\"Reversed IT Companies (Descending):\", it_companies)\n",
    "\n",
    ""
   ]
  },
  {
   "cell_type": "markdown",
   "metadata": {},
   "source": [
    " No. 18 Slice out the first 3 companies from the list"
   ]
  },
  {
   "cell_type": "code",
   "execution_count": null,
   "metadata": {},
   "outputs": [],
   "source": [
    "it_companies = [\"Facebook\", \"Google\", \"Microsoft\", \"Apple\", \"Intel\", \"Oracle\", \"Amazon\"]\n",
    "\n",
    "# Slice out the first 3 companies\n",
    "first_three_companies = it_companies[:3]\n",
    "\n",
    "# Displaying the sliced list\n",
    "print(\"First Three IT Companies:\", first_three_companies)\n",
    "\n",
    ""
   ]
  },
  {
   "cell_type": "markdown",
   "metadata": {},
   "source": [
    " No. 19 Slice out the last 3 companies from the list"
   ]
  },
  {
   "cell_type": "code",
   "execution_count": null,
   "metadata": {},
   "outputs": [],
   "source": [
    "it_companies = [\"Facebook\", \"Google\", \"Microsoft\", \"Apple\", \"Intel\", \"Oracle\", \"Amazon\"]\n",
    "\n",
    "# Slice out the last 3 companies\n",
    "last_three_companies = it_companies[-3:]\n",
    "\n",
    "# Displaying the sliced list\n",
    "print(\"Last Three IT Companies:\", last_three_companies)\n",
    "\n",
    ""
   ]
  },
  {
   "cell_type": "markdown",
   "metadata": {},
   "source": [
    " No. 20 Slice out the middle IT company or companies from the list"
   ]
  },
  {
   "cell_type": "code",
   "execution_count": null,
   "metadata": {},
   "outputs": [],
   "source": [
    "it_companies = [\"Facebook\", \"Google\", \"Microsoft\", \"Apple\", \"Intel\", \"Oracle\", \"Amazon\"]\n",
    "\n",
    "# Determine the middle indices\n",
    "middle_index = len(it_companies) // 2\n",
    "\n",
    "# Slice out the middle company or companies\n",
    "if len(it_companies) % 2 == 0:\n",
    "    # If the list has an even number of elements, slice out two companies\n",
    "    middle_companies = it_companies[middle_index - 1 : middle_index + 1]\n",
    "else:\n",
    "    # If the list has an odd number of elements, slice out one company\n",
    "    middle_companies = [it_companies[middle_index]]\n",
    "\n",
    "# Displaying the sliced list\n",
    "print(\"Middle IT Company or Companies:\", middle_companies)\n",
    "\n",
    ""
   ]
  },
  {
   "cell_type": "markdown",
   "metadata": {},
   "source": [
    " No. 21 Remove the first IT company from the list"
   ]
  },
  {
   "cell_type": "code",
   "execution_count": null,
   "metadata": {},
   "outputs": [],
   "source": [
    "it_companies = [\"Facebook\", \"Google\", \"Microsoft\", \"Apple\", \"Intel\", \"Oracle\", \"Amazon\"]\n",
    "\n",
    "# Remove the first IT company using pop()\n",
    "if it_companies:\n",
    "    first_company_removed = it_companies.pop(0)\n",
    "    print(\"First IT Company Removed (using pop):\", first_company_removed)\n",
    "else:\n",
    "    print(\"The list is empty.\")\n",
    "\n",
    "# Displaying the updated list\n",
    "print(\"Updated IT Companies List:\", it_companies)\n",
    "\n",
    ""
   ]
  },
  {
   "cell_type": "markdown",
   "metadata": {},
   "source": [
    " No. 22 Remove the middle IT company or companies from the list"
   ]
  },
  {
   "cell_type": "code",
   "execution_count": null,
   "metadata": {},
   "outputs": [],
   "source": [
    "it_companies = [\"Facebook\", \"Google\", \"Microsoft\", \"Apple\", \"Intel\", \"Oracle\", \"Amazon\"]\n",
    "\n",
    "# Determine the middle indices\n",
    "middle_index = len(it_companies) // 2\n",
    "\n",
    "# Remove the middle company or companies\n",
    "if len(it_companies) % 2 == 0:\n",
    "    # If the list has an even number of elements, remove two companies\n",
    "    removed_companies = it_companies[middle_index - 1 : middle_index + 1]\n",
    "    it_companies = it_companies[:middle_index - 1] + it_companies[middle_index + 1:]\n",
    "else:\n",
    "    # If the list has an odd number of elements, remove one company\n",
    "    removed_companies = [it_companies[middle_index]]\n",
    "    it_companies = it_companies[:middle_index] + it_companies[middle_index + 1:]\n",
    "\n",
    "# Displaying the removed company or companies and the updated list\n",
    "print(\"Middle IT Company or Companies Removed:\", removed_companies)\n",
    "print(\"Updated IT Companies List:\", it_companies)\n",
    "\n",
    ""
   ]
  },
  {
   "cell_type": "markdown",
   "metadata": {},
   "source": [
    " No. 23 Remove the last IT company from the list"
   ]
  },
  {
   "cell_type": "code",
   "execution_count": null,
   "metadata": {},
   "outputs": [],
   "source": [
    "it_companies = [\"Facebook\", \"Google\", \"Microsoft\", \"Apple\", \"Intel\", \"Oracle\", \"Amazon\"]\n",
    "\n",
    "# Remove the last IT company using list slicing\n",
    "if it_companies:\n",
    "    it_companies = it_companies[:-1]\n",
    "    print(\"Last IT Company Removed (using slicing):\", it_companies[-1])\n",
    "else:\n",
    "    print(\"The list is empty.\")\n",
    "\n",
    "# Displaying the updated list\n",
    "print(\"Updated IT Companies List:\", it_companies)\n",
    "\n",
    ""
   ]
  },
  {
   "cell_type": "markdown",
   "metadata": {},
   "source": [
    " No. 24 Remove all IT companies from the list"
   ]
  },
  {
   "cell_type": "code",
   "execution_count": null,
   "metadata": {},
   "outputs": [],
   "source": [
    "it_companies = [\"Facebook\", \"Google\", \"Microsoft\", \"Apple\", \"Intel\", \"Oracle\", \"Amazon\"]\n",
    "\n",
    "# Clear the list to remove all IT companies\n",
    "it_companies.clear()\n",
    "\n",
    "# Displaying the updated list\n",
    "print(\"Updated IT Companies List:\", it_companies)\n",
    "\n",
    ""
   ]
  },
  {
   "cell_type": "markdown",
   "metadata": {},
   "source": [
    " No. 25 Destroy the IT companies list"
   ]
  },
  {
   "cell_type": "code",
   "execution_count": null,
   "metadata": {},
   "outputs": [],
   "source": [
    "it_companies = [\"Facebook\", \"Google\", \"Microsoft\", \"Apple\", \"Intel\", \"Oracle\", \"Amazon\"]\n",
    "\n",
    "# Displaying the original list\n",
    "print(\"Original IT Companies List:\", it_companies)\n",
    "\n",
    "# Destroying the list (removing the reference)\n",
    "del it_companies\n",
    "\n",
    "# Attempting to display the list after it's been \"destroyed\" will result in an error\n",
    "# print(\"Updated IT Companies List:\", it_companies)  # Uncommenting this line will raise an error\n",
    "\n",
    ""
   ]
  },
  {
   "cell_type": "markdown",
   "metadata": {},
   "source": [
    " No. 26 Join the following lists:\n",
    "\n",
    " front_end = ['HTML', 'CSS', 'JS', 'React', 'Redux']\n",
    " back_end = ['Node','Express', 'MongoDB']"
   ]
  },
  {
   "cell_type": "code",
   "execution_count": null,
   "metadata": {},
   "outputs": [],
   "source": [
    "front_end = ['HTML', 'CSS', 'JS', 'React', 'Redux']\n",
    "back_end = ['Node', 'Express', 'MongoDB']\n",
    "\n",
    "# Joining the lists using the + operator\n",
    "full_stack = front_end + back_end\n",
    "\n",
    "# Displaying the joined list\n",
    "print(\"Full Stack Development Technologies:\", full_stack)\n",
    "\n",
    ""
   ]
  },
  {
   "cell_type": "markdown",
   "metadata": {},
   "source": [
    " No. 27 After joining the lists in question 26. Copy the joined list and assign it to a variable full_stack. Then insert Python and SQL after Redux."
   ]
  },
  {
   "cell_type": "code",
   "execution_count": null,
   "metadata": {},
   "outputs": [],
   "source": [
    "front_end = ['HTML', 'CSS', 'JS', 'React', 'Redux']\n",
    "back_end = ['Node', 'Express', 'MongoDB']\n",
    "\n",
    "# Joining the lists using the + operator\n",
    "full_stack = front_end + back_end\n",
    "\n",
    "# Displaying the original joined list\n",
    "print(\"Original Full Stack Development Technologies:\", full_stack)\n",
    "\n",
    "# Copying the joined list to a new variable\n",
    "full_stack_copy = full_stack.copy()\n",
    "\n",
    "# Inserting \"Python\" and \"SQL\" after \"Redux\"\n",
    "index_of_redux = full_stack_copy.index('Redux')\n",
    "full_stack_copy.insert(index_of_redux + 1, 'Python')\n",
    "full_stack_copy.insert(index_of_redux + 2, 'SQL')\n",
    "\n",
    "# Displaying the updated list\n",
    "print(\"Updated Full Stack Development Technologies:\", full_stack_copy)\n",
    "\n",
    ""
   ]
  },
  {
   "cell_type": "markdown",
   "metadata": {},
   "source": [
    " Exercises: Level 2"
   ]
  },
  {
   "cell_type": "markdown",
   "metadata": {},
   "source": [
    " 1. The following is a list of 10 students ages:\n",
    " ages = [19, 22, 19, 24, 20, 25, 26, 24, 25, 24]\n",
    "    Sort the list and find the min and max age\n",
    "    Add the min age and the max age again to the list\n",
    "    Find the median age (one middle item or two middle items divided by two)\n",
    "    Find the average age (sum of all items divided by their number )\n",
    "    Find the range of the ages (max minus min)\n",
    " Compare the value of (min - average) and (max - average), use abs() method\n",
    " 1. Find the middle country(ies) in the countries list\n",
    " 2. Divide the countries list into two equal lists if it is even if not one more country for the first half.\n",
    " 3. ['China', 'Russia', 'USA', 'Finland', 'Sweden', 'Norway', 'Denmark']. Unpack the first three countries and the rest as scandic countries."
   ]
  },
  {
   "cell_type": "code",
   "execution_count": null,
   "metadata": {},
   "outputs": [],
   "source": [
    "# List of ages\n",
    "ages = [19, 22, 19, 24, 20, 25, 26, 24, 25, 24]\n",
    "\n",
    "# Sort the list\n",
    "ages.sort()\n",
    "\n",
    "# Find the min and max age\n",
    "min_age = min(ages)\n",
    "max_age = max(ages)\n",
    "\n",
    "# Add min and max age to the list\n",
    "ages.extend([min_age, max_age])\n",
    "\n",
    "# Find the median age\n",
    "middle_index = len(ages) // 2\n",
    "median_age = (ages[middle_index] + ages[middle_index - 1]) / 2 if len(ages) % 2 == 0 else ages[middle_index]\n",
    "\n",
    "# Find the average age\n",
    "average_age = sum(ages) / len(ages)\n",
    "\n",
    "# Find the range of ages\n",
    "age_range = max_age - min_age\n",
    "\n",
    "# Compare (min - average) and (max - average)\n",
    "min_average_diff = abs(min_age - average_age)\n",
    "max_average_diff = abs(max_age - average_age)\n",
    "\n",
    "# Display the results for the age-related calculations\n",
    "print(\"Sorted Ages:\", ages)\n",
    "print(\"Min Age:\", min_age)\n",
    "print(\"Max Age:\", max_age)\n",
    "print(\"Median Age:\", median_age)\n",
    "print(\"Average Age:\", average_age)\n",
    "print(\"Age Range:\", age_range)\n",
    "print(\"Difference (Min - Average):\", min_average_diff)\n",
    "print(\"Difference (Max - Average):\", max_average_diff)\n",
    "\n",
    "# List of countries\n",
    "countries = ['China', 'Russia', 'USA', 'Finland', 'Sweden', 'Norway', 'Denmark']\n",
    "\n",
    "# Unpack the first three countries and the rest as scandic countries\n",
    "first_three_countries, *scandic_countries = countries\n",
    "\n",
    "# Display the results for the countries\n",
    "print(\"\\nFirst Three Countries:\", first_three_countries)\n",
    "print(\"Scandic Countries:\", scandic_countries)\n",
    "\n",
    "\n",
    "\n",
    ""
   ]
  }
 ],
 "nbformat": 4,
 "nbformat_minor": 2,
 "metadata": {
  "language_info": {
   "codemirror_mode": {
    "name": "ipython",
    "version": 3
   },
   "file_extension": ".py",
   "mimetype": "text/x-python",
   "name": "python",
   "nbconvert_exporter": "python",
   "pygments_lexer": "ipython3",
   "version": 3
  }
 }
}