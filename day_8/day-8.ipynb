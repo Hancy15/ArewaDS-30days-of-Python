{
 "cells": [
  {
   "cell_type": "markdown",
   "metadata": {},
   "source": [
    "Exercises: Day 8"
   ]
  },
  {
   "cell_type": "markdown",
   "metadata": {},
   "source": [
    "No 1. Create an empty dictionary called dog"
   ]
  },
  {
   "cell_type": "code",
   "execution_count": 45,
   "metadata": {},
   "outputs": [],
   "source": [
    "dog = {}\n"
   ]
  },
  {
   "cell_type": "markdown",
   "metadata": {},
   "source": [
    "No. 2 Add name, color, breed, legs, age to the dog dictionary"
   ]
  },
  {
   "cell_type": "code",
   "execution_count": 46,
   "metadata": {},
   "outputs": [],
   "source": [
    "dog = {\n",
    "    \"name\": \"\",\n",
    "    \"color\": \"\",\n",
    "    \"breed\": \"\",\n",
    "    \"legs\": 0,\n",
    "    \"age\": 0\n",
    "}\n"
   ]
  },
  {
   "cell_type": "markdown",
   "metadata": {},
   "source": [
    "No. 3 Create a student dictionary and add first_name, last_name, gender, age, marital status, skills, country, city and address as keys for the dictionary"
   ]
  },
  {
   "cell_type": "code",
   "execution_count": 47,
   "metadata": {},
   "outputs": [],
   "source": [
    "student = {\n",
    "    \"first_name\": \"\",\n",
    "    \"last_name\": \"\",\n",
    "    \"gender\": \"\",\n",
    "    \"age\": 0,\n",
    "    \"marital_status\": \"\",\n",
    "    \"skills\": [],\n",
    "    \"country\": \"\",\n",
    "    \"city\": \"\",\n",
    "    \"address\": \"\"\n",
    "}\n"
   ]
  },
  {
   "cell_type": "markdown",
   "metadata": {},
   "source": [
    "No. 4 Get the length of the student dictionary"
   ]
  },
  {
   "cell_type": "code",
   "execution_count": 48,
   "metadata": {},
   "outputs": [
    {
     "name": "stdout",
     "output_type": "stream",
     "text": [
      "Length of the student dictionary: 9\n"
     ]
    }
   ],
   "source": [
    "student = {\n",
    "    \"first_name\": \"John\",\n",
    "    \"last_name\": \"Doe\",\n",
    "    \"gender\": \"Male\",\n",
    "    \"age\": 20,\n",
    "    \"marital_status\": \"Single\",\n",
    "    \"skills\": [\"Python\", \"JavaScript\", \"HTML\"],\n",
    "    \"country\": \"USA\",\n",
    "    \"city\": \"New York\",\n",
    "    \"address\": \"123 Main Street\"\n",
    "}\n",
    "\n",
    "length_of_student_dict = len(student)\n",
    "print(\"Length of the student dictionary:\", length_of_student_dict)\n"
   ]
  },
  {
   "cell_type": "markdown",
   "metadata": {},
   "source": [
    "No. 5 Get the value of skills and check the data type, it should be a list"
   ]
  },
  {
   "cell_type": "code",
   "execution_count": 49,
   "metadata": {},
   "outputs": [
    {
     "name": "stdout",
     "output_type": "stream",
     "text": [
      "Value of 'skills': ['Python', 'JavaScript', 'HTML']\n",
      "Data type of 'skills': <class 'list'>\n"
     ]
    }
   ],
   "source": [
    "student = {\n",
    "    \"first_name\": \"John\",\n",
    "    \"last_name\": \"Doe\",\n",
    "    \"gender\": \"Male\",\n",
    "    \"age\": 20,\n",
    "    \"marital_status\": \"Single\",\n",
    "    \"skills\": [\"Python\", \"JavaScript\", \"HTML\"],\n",
    "    \"country\": \"USA\",\n",
    "    \"city\": \"New York\",\n",
    "    \"address\": \"123 Main Street\"\n",
    "}\n",
    "\n",
    "skills_value = student[\"skills\"]\n",
    "skills_data_type = type(skills_value)\n",
    "\n",
    "print(\"Value of 'skills':\", skills_value)\n",
    "print(\"Data type of 'skills':\", skills_data_type)\n"
   ]
  },
  {
   "cell_type": "markdown",
   "metadata": {},
   "source": [
    "No. 6 Modify the skills values by adding one or two skills"
   ]
  },
  {
   "cell_type": "code",
   "execution_count": 50,
   "metadata": {},
   "outputs": [
    {
     "name": "stdout",
     "output_type": "stream",
     "text": [
      "Modified 'skills' values: ['Python', 'JavaScript', 'HTML', 'CSS', 'React']\n"
     ]
    }
   ],
   "source": [
    "student = {\n",
    "    \"first_name\": \"John\",\n",
    "    \"last_name\": \"Doe\",\n",
    "    \"gender\": \"Male\",\n",
    "    \"age\": 20,\n",
    "    \"marital_status\": \"Single\",\n",
    "    \"skills\": [\"Python\", \"JavaScript\", \"HTML\"],\n",
    "    \"country\": \"USA\",\n",
    "    \"city\": \"New York\",\n",
    "    \"address\": \"123 Main Street\"\n",
    "}\n",
    "\n",
    "# Adding one or two skills to the existing list\n",
    "additional_skills = [\"CSS\", \"React\"]\n",
    "student[\"skills\"] += additional_skills\n",
    "\n",
    "# Displaying the modified 'skills' values\n",
    "print(\"Modified 'skills' values:\", student[\"skills\"])\n"
   ]
  },
  {
   "cell_type": "markdown",
   "metadata": {},
   "source": [
    "No. 7 Get the dictionary keys as a list"
   ]
  },
  {
   "cell_type": "code",
   "execution_count": 51,
   "metadata": {},
   "outputs": [
    {
     "name": "stdout",
     "output_type": "stream",
     "text": [
      "Dictionary keys as a list: ['first_name', 'last_name', 'gender', 'age', 'marital_status', 'skills', 'country', 'city', 'address']\n"
     ]
    }
   ],
   "source": [
    "student = {\n",
    "    \"first_name\": \"John\",\n",
    "    \"last_name\": \"Doe\",\n",
    "    \"gender\": \"Male\",\n",
    "    \"age\": 20,\n",
    "    \"marital_status\": \"Single\",\n",
    "    \"skills\": [\"Python\", \"JavaScript\", \"HTML\"],\n",
    "    \"country\": \"USA\",\n",
    "    \"city\": \"New York\",\n",
    "    \"address\": \"123 Main Street\"\n",
    "}\n",
    "\n",
    "# Get the dictionary keys as a list\n",
    "keys_list = list(student.keys())\n",
    "\n",
    "# Display the list of keys\n",
    "print(\"Dictionary keys as a list:\", keys_list)\n"
   ]
  },
  {
   "cell_type": "markdown",
   "metadata": {},
   "source": [
    "No. 8 Get the dictionary values as a list"
   ]
  },
  {
   "cell_type": "code",
   "execution_count": 52,
   "metadata": {},
   "outputs": [
    {
     "name": "stdout",
     "output_type": "stream",
     "text": [
      "Dictionary values as a list: ['John', 'Doe', 'Male', 20, 'Single', ['Python', 'JavaScript', 'HTML'], 'USA', 'New York', '123 Main Street']\n"
     ]
    }
   ],
   "source": [
    "student = {\n",
    "    \"first_name\": \"John\",\n",
    "    \"last_name\": \"Doe\",\n",
    "    \"gender\": \"Male\",\n",
    "    \"age\": 20,\n",
    "    \"marital_status\": \"Single\",\n",
    "    \"skills\": [\"Python\", \"JavaScript\", \"HTML\"],\n",
    "    \"country\": \"USA\",\n",
    "    \"city\": \"New York\",\n",
    "    \"address\": \"123 Main Street\"\n",
    "}\n",
    "\n",
    "# Get the dictionary values as a list\n",
    "values_list = list(student.values())\n",
    "\n",
    "# Display the list of values\n",
    "print(\"Dictionary values as a list:\", values_list)\n"
   ]
  },
  {
   "cell_type": "markdown",
   "metadata": {},
   "source": [
    "N0. 9 Change the dictionary to a list of tuples using items() method"
   ]
  },
  {
   "cell_type": "code",
   "execution_count": 53,
   "metadata": {},
   "outputs": [
    {
     "name": "stdout",
     "output_type": "stream",
     "text": [
      "Dictionary items as a list of tuples: [('first_name', 'John'), ('last_name', 'Doe'), ('gender', 'Male'), ('age', 20), ('marital_status', 'Single'), ('skills', ['Python', 'JavaScript', 'HTML']), ('country', 'USA'), ('city', 'New York'), ('address', '123 Main Street')]\n"
     ]
    }
   ],
   "source": [
    "student = {\n",
    "    \"first_name\": \"John\",\n",
    "    \"last_name\": \"Doe\",\n",
    "    \"gender\": \"Male\",\n",
    "    \"age\": 20,\n",
    "    \"marital_status\": \"Single\",\n",
    "    \"skills\": [\"Python\", \"JavaScript\", \"HTML\"],\n",
    "    \"country\": \"USA\",\n",
    "    \"city\": \"New York\",\n",
    "    \"address\": \"123 Main Street\"\n",
    "}\n",
    "\n",
    "# Convert the dictionary to a list of tuples using items()\n",
    "items_list = list(student.items())\n",
    "\n",
    "# Display the list of tuples\n",
    "print(\"Dictionary items as a list of tuples:\", items_list)\n"
   ]
  },
  {
   "cell_type": "markdown",
   "metadata": {},
   "source": [
    "No. 10 delete one of the items from dictionary"
   ]
  },
  {
   "cell_type": "code",
   "execution_count": 54,
   "metadata": {},
   "outputs": [
    {
     "name": "stdout",
     "output_type": "stream",
     "text": [
      "Modified dictionary after deleting 'marital_status': {'first_name': 'John', 'last_name': 'Doe', 'gender': 'Male', 'age': 20, 'skills': ['Python', 'JavaScript', 'HTML'], 'country': 'USA', 'city': 'New York', 'address': '123 Main Street'}\n"
     ]
    }
   ],
   "source": [
    "student = {\n",
    "    \"first_name\": \"John\",\n",
    "    \"last_name\": \"Doe\",\n",
    "    \"gender\": \"Male\",\n",
    "    \"age\": 20,\n",
    "    \"marital_status\": \"Single\",\n",
    "    \"skills\": [\"Python\", \"JavaScript\", \"HTML\"],\n",
    "    \"country\": \"USA\",\n",
    "    \"city\": \"New York\",\n",
    "    \"address\": \"123 Main Street\"\n",
    "}\n",
    "\n",
    "# Delete the \"marital_status\" item from the dictionary\n",
    "del student[\"marital_status\"]\n",
    "\n",
    "# Display the modified dictionary\n",
    "print(\"Modified dictionary after deleting 'marital_status':\", student)\n"
   ]
  },
  {
   "cell_type": "markdown",
   "metadata": {},
   "source": [
    "No. 11 Delete one of the dictionaries"
   ]
  },
  {
   "cell_type": "code",
   "execution_count": 55,
   "metadata": {},
   "outputs": [],
   "source": [
    "student = {\n",
    "    \"first_name\": \"John\",\n",
    "    \"last_name\": \"Doe\",\n",
    "    \"gender\": \"Male\",\n",
    "    \"age\": 20,\n",
    "    \"marital_status\": \"Single\",\n",
    "    \"skills\": [\"Python\", \"JavaScript\", \"HTML\"],\n",
    "    \"country\": \"USA\",\n",
    "    \"city\": \"New York\",\n",
    "    \"address\": \"123 Main Street\"\n",
    "}\n",
    "\n",
    "# Delete the entire dictionary\n",
    "del student\n",
    "\n",
    "# Attempting to access the dictionary now will result in an error\n",
    "# For example, this would raise a NameError: name 'student' is not defined\n",
    "# print(student)\n"
   ]
  }
 ],
 "metadata": {
  "kernelspec": {
   "display_name": "datascience",
   "language": "python",
   "name": "python3"
  },
  "language_info": {
   "codemirror_mode": {
    "name": "ipython",
    "version": 3
   },
   "file_extension": ".py",
   "mimetype": "text/x-python",
   "name": "python",
   "nbconvert_exporter": "python",
   "pygments_lexer": "ipython3",
   "version": "3.11.5"
  }
 },
 "nbformat": 4,
 "nbformat_minor": 2
}
