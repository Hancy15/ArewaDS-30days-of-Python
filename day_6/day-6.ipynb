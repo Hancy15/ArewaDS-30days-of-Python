{
 "cells": [
  {
   "cell_type": "markdown",
   "metadata": {},
   "source": [
    "Exercises: Day 6"
   ]
  },
  {
   "cell_type": "markdown",
   "metadata": {},
   "source": [
    "Exercises: Level 1"
   ]
  },
  {
   "cell_type": "markdown",
   "metadata": {},
   "source": [
    "No. 1 create an empty tuple"
   ]
  },
  {
   "cell_type": "code",
   "execution_count": 1,
   "metadata": {},
   "outputs": [
    {
     "name": "stdout",
     "output_type": "stream",
     "text": [
      "()\n"
     ]
    }
   ],
   "source": [
    "empty_tuple = ()\n",
    "\n",
    "print(empty_tuple)"
   ]
  },
  {
   "cell_type": "markdown",
   "metadata": {},
   "source": [
    "No. 2 Create a tuple containing names of your sisters and your brothers (imaginary siblings are fine)"
   ]
  },
  {
   "cell_type": "code",
   "execution_count": 2,
   "metadata": {},
   "outputs": [
    {
     "name": "stdout",
     "output_type": "stream",
     "text": [
      "('Aliyu', 'Umnar', 'Ibrahim', 'Sadiya', 'Aisha')\n"
     ]
    }
   ],
   "source": [
    "siblings = ('Aliyu', 'Umnar', 'Ibrahim', 'Sadiya', 'Aisha')\n",
    "\n",
    "print(siblings)\n"
   ]
  },
  {
   "cell_type": "markdown",
   "metadata": {},
   "source": [
    "No. 3 Join brothers and sisters tuples and assign it to siblings"
   ]
  },
  {
   "cell_type": "code",
   "execution_count": 3,
   "metadata": {},
   "outputs": [
    {
     "name": "stdout",
     "output_type": "stream",
     "text": [
      "('Ibrahim', 'Umar', 'Aliyu', 'Aisha', 'Sadiya')\n"
     ]
    }
   ],
   "source": [
    "brothers = ('Ibrahim', 'Umar', 'Aliyu')\n",
    "sisters = ('Aisha', 'Sadiya')\n",
    "\n",
    "siblings = brothers + sisters\n",
    "\n",
    "print(siblings)\n"
   ]
  },
  {
   "cell_type": "markdown",
   "metadata": {},
   "source": [
    "No. 4 How many siblings do you have?"
   ]
  },
  {
   "cell_type": "code",
   "execution_count": 4,
   "metadata": {},
   "outputs": [
    {
     "name": "stdout",
     "output_type": "stream",
     "text": [
      "5\n"
     ]
    }
   ],
   "source": [
    "siblings = ('Aliyu', 'Umnar', 'Ibrahim', 'Sadiya', 'Aisha')\n",
    "num_of_siblings = len(siblings)\n",
    "\n",
    "print(num_of_siblings)"
   ]
  },
  {
   "cell_type": "markdown",
   "metadata": {},
   "source": [
    "No. 5 Modify the siblings tuple and add the name of your father and mother and assign it to family_members"
   ]
  },
  {
   "cell_type": "code",
   "execution_count": 5,
   "metadata": {},
   "outputs": [
    {
     "name": "stdout",
     "output_type": "stream",
     "text": [
      "('Aliyu', 'Umnar', 'Ibrahim', 'Sadiya', 'Aisha', 'Muhammad', 'Maryam')\n"
     ]
    }
   ],
   "source": [
    "father_and_mother = ('Muhammad', 'Maryam')  \n",
    "  \n",
    "\n",
    "family_members = siblings + father_and_mother\n",
    "\n",
    "print(family_members)\n"
   ]
  },
  {
   "cell_type": "markdown",
   "metadata": {},
   "source": [
    "Exercise Level 2"
   ]
  },
  {
   "cell_type": "markdown",
   "metadata": {},
   "source": [
    "No. 1 Unpack siblings and parents from family_members"
   ]
  },
  {
   "cell_type": "code",
   "execution_count": 6,
   "metadata": {},
   "outputs": [
    {
     "name": "stdout",
     "output_type": "stream",
     "text": [
      "Siblings: Aliyu\n",
      "Parents: ['Umnar', 'Ibrahim', 'Sadiya', 'Aisha', 'Muhammad', 'Maryam']\n"
     ]
    }
   ],
   "source": [
    "# Assuming family_members contains siblings, father, and mother\n",
    "siblings, *parents = family_members\n",
    "\n",
    "# Print the unpacked values\n",
    "print(\"Siblings:\", siblings)\n",
    "print(\"Parents:\", parents)\n"
   ]
  },
  {
   "cell_type": "markdown",
   "metadata": {},
   "source": [
    "No. 2 Create fruits, vegetables and animal products tuples. Join the three tuples and assign it to a variable called food_stuff_tp."
   ]
  },
  {
   "cell_type": "code",
   "execution_count": 7,
   "metadata": {},
   "outputs": [
    {
     "name": "stdout",
     "output_type": "stream",
     "text": [
      "('apple', 'banana', 'orange', 'carrot', 'broccoli', 'spinach', 'chicken', 'beef', 'eggs')\n"
     ]
    }
   ],
   "source": [
    "fruits = ('apple', 'banana', 'orange')\n",
    "vegetables = ('carrot', 'broccoli', 'spinach')\n",
    "animal_products = ('chicken', 'beef', 'eggs')\n",
    "\n",
    "food_stuff_tp = fruits + vegetables + animal_products\n",
    "\n",
    "print(food_stuff_tp)\n"
   ]
  },
  {
   "cell_type": "markdown",
   "metadata": {},
   "source": [
    "No. 3 Change the about food_stuff_tp tuple to a food_stuff_lt list"
   ]
  },
  {
   "cell_type": "code",
   "execution_count": 8,
   "metadata": {},
   "outputs": [
    {
     "name": "stdout",
     "output_type": "stream",
     "text": [
      "['apple', 'banana', 'orange', 'carrot', 'broccoli', 'spinach', 'chicken', 'beef', 'eggs']\n"
     ]
    }
   ],
   "source": [
    "food_stuff_lt = list(food_stuff_tp)\n",
    "\n",
    "print(food_stuff_lt)\n"
   ]
  },
  {
   "cell_type": "markdown",
   "metadata": {},
   "source": [
    "No. 4 Slice out the middle item or items from the food_stuff_tp tuple or food_stuff_lt list."
   ]
  },
  {
   "cell_type": "code",
   "execution_count": 9,
   "metadata": {},
   "outputs": [
    {
     "name": "stdout",
     "output_type": "stream",
     "text": [
      "Middle Item(s) from food_stuff_tp: ('broccoli',)\n"
     ]
    }
   ],
   "source": [
    "middle_index = len(food_stuff_tp) // 2\n",
    "middle_items = food_stuff_tp[middle_index-1 : middle_index+1] if len(food_stuff_tp) % 2 == 0 else food_stuff_tp[middle_index : middle_index+1]\n",
    "\n",
    "print(\"Middle Item(s) from food_stuff_tp:\", middle_items)\n"
   ]
  },
  {
   "cell_type": "markdown",
   "metadata": {},
   "source": [
    "No. 5 Slice out the first three items and the last three items from food_staff_lt list"
   ]
  },
  {
   "cell_type": "code",
   "execution_count": 10,
   "metadata": {},
   "outputs": [
    {
     "name": "stdout",
     "output_type": "stream",
     "text": [
      "First three items: ['apple', 'banana', 'orange']\n",
      "Last three items: ['chicken', 'beef', 'eggs']\n"
     ]
    }
   ],
   "source": [
    "first_three_items = food_stuff_lt[:3]\n",
    "last_three_items = food_stuff_lt[-3:]\n",
    "\n",
    "print(\"First three items:\", first_three_items)\n",
    "print(\"Last three items:\", last_three_items)\n"
   ]
  },
  {
   "cell_type": "markdown",
   "metadata": {},
   "source": [
    "No. 6 Delete the food_staff_tp tuple completely"
   ]
  },
  {
   "cell_type": "code",
   "execution_count": 11,
   "metadata": {},
   "outputs": [],
   "source": [
    "del food_stuff_tp\n"
   ]
  },
  {
   "cell_type": "markdown",
   "metadata": {},
   "source": [
    "No. 7 Check if an item exists in tuple:\n",
    "\n",
    "Check if 'Estonia' is a nordic country\n",
    "\n",
    "Check if 'Iceland' is a nordic country\n",
    "\n",
    "nordic_countries = ('Denmark', 'Finland','Iceland', 'Norway', 'Sweden')"
   ]
  },
  {
   "cell_type": "code",
   "execution_count": 12,
   "metadata": {},
   "outputs": [
    {
     "name": "stdout",
     "output_type": "stream",
     "text": [
      "Is Estonia a Nordic country? False\n",
      "Is Iceland a Nordic country? True\n"
     ]
    }
   ],
   "source": [
    "nordic_countries = ('Denmark', 'Finland', 'Iceland', 'Norway', 'Sweden')\n",
    "\n",
    "# Check if 'Estonia' is a Nordic country\n",
    "estonia_is_nordic = 'Estonia' in nordic_countries\n",
    "print(\"Is Estonia a Nordic country?\", estonia_is_nordic)\n",
    "\n",
    "# Check if 'Iceland' is a Nordic country\n",
    "iceland_is_nordic = 'Iceland' in nordic_countries\n",
    "print(\"Is Iceland a Nordic country?\", iceland_is_nordic)\n"
   ]
  }
 ],
 "metadata": {
  "kernelspec": {
   "display_name": "Python 3",
   "language": "python",
   "name": "python3"
  },
  "language_info": {
   "codemirror_mode": {
    "name": "ipython",
    "version": 3
   },
   "file_extension": ".py",
   "mimetype": "text/x-python",
   "name": "python",
   "nbconvert_exporter": "python",
   "pygments_lexer": "ipython3",
   "version": "3.11.5"
  }
 },
 "nbformat": 4,
 "nbformat_minor": 2
}
