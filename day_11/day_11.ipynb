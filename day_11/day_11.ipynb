{
 "cells": [
  {
   "cell_type": "markdown",
   "metadata": {},
   "source": [
    "Exercises: Day 11"
   ]
  },
  {
   "cell_type": "markdown",
   "metadata": {},
   "source": [
    "Exercises: Level 1"
   ]
  },
  {
   "cell_type": "markdown",
   "metadata": {},
   "source": [
    "No. 1 Declare a function add_two_numbers. It takes two parameters and it returns a sum."
   ]
  },
  {
   "cell_type": "code",
   "execution_count": null,
   "metadata": {},
   "outputs": [],
   "source": [
    "def add_two_numbers(num1, num2):\n",
    "    return num1 + num2\n",
    "\n",
    "# Example usage:\n",
    "number1 = 5\n",
    "number2 = 7\n",
    "sum_result = add_two_numbers(number1, number2)\n",
    "print(f\"The sum of {number1} and {number2} is: {sum_result}\")\n"
   ]
  },
  {
   "cell_type": "markdown",
   "metadata": {},
   "source": [
    "No. 2 Area of a circle is calculated as follows: area = π x r x r. Write a function that calculates area_of_circle."
   ]
  },
  {
   "cell_type": "code",
   "execution_count": null,
   "metadata": {},
   "outputs": [],
   "source": [
    "import math\n",
    "\n",
    "def area_of_circle(radius):\n",
    "    return math.pi * radius * radius\n",
    "\n",
    "# Example usage:\n",
    "circle_radius = 3.5\n",
    "circle_area = area_of_circle(circle_radius)\n",
    "print(f\"The area of a circle with radius {circle_radius} is: {circle_area}\")\n"
   ]
  },
  {
   "cell_type": "markdown",
   "metadata": {},
   "source": [
    "No. 3 Write a function called add_all_nums which takes arbitrary number of arguments and sums all the arguments. Check if all the list items are number types. If not do give a reasonable feedback."
   ]
  },
  {
   "cell_type": "code",
   "execution_count": null,
   "metadata": {},
   "outputs": [],
   "source": [
    "def add_all_nums(*args):\n",
    "    \"\"\"\n",
    "    Sums all numeric arguments.\n",
    "\n",
    "    Parameters:\n",
    "    - *args: Arbitrary number of arguments.\n",
    "\n",
    "    Returns:\n",
    "    - int or float: The sum of all numeric arguments.\n",
    "    \"\"\"\n",
    "    if all(isinstance(arg, (int, float)) for arg in args):\n",
    "        return sum(args)\n",
    "    else:\n",
    "        return \"Error: All items should be numeric.\"\n",
    "\n",
    "# Example usage:\n",
    "result1 = add_all_nums(1, 2, 3, 4, 5)\n",
    "print(f\"Sum: {result1}\")\n",
    "\n",
    "result2 = add_all_nums(1, 2, 'three', 4, 5)  # 'three' is not numeric\n",
    "print(result2)\n"
   ]
  },
  {
   "cell_type": "markdown",
   "metadata": {},
   "source": [
    "No. 4 Temperature in °C can be converted to °F using this formula: °F = (°C x 9/5) + 32. Write a function which converts °C to °F, convert_celsius_to-fahrenheit."
   ]
  },
  {
   "cell_type": "code",
   "execution_count": null,
   "metadata": {},
   "outputs": [],
   "source": [
    "def convert_celsius_to_fahrenheit(celsius):\n",
    "    \"\"\"\n",
    "    Converts temperature from Celsius to Fahrenheit.\n",
    "\n",
    "    Parameters:\n",
    "    - celsius (float): Temperature in Celsius.\n",
    "\n",
    "    Returns:\n",
    "    - float: Temperature in Fahrenheit.\n",
    "    \"\"\"\n",
    "    fahrenheit = (celsius * 9/5) + 32\n",
    "    return fahrenheit\n",
    "\n",
    "# Example usage:\n",
    "temperature_celsius = 25.0\n",
    "temperature_fahrenheit = convert_celsius_to_fahrenheit(temperature_celsius)\n",
    "print(f\"{temperature_celsius}°C is equal to {temperature_fahrenheit}°F\")\n"
   ]
  },
  {
   "cell_type": "markdown",
   "metadata": {},
   "source": [
    "No. 5 Write a function called check-season, it takes a month parameter and returns the season: Autumn, Winter, Spring or Summer."
   ]
  },
  {
   "cell_type": "code",
   "execution_count": null,
   "metadata": {},
   "outputs": [],
   "source": [
    "def check_season(month):\n",
    "    \"\"\"\n",
    "    Determines the season based on the given month.\n",
    "\n",
    "    Parameters:\n",
    "    - month (str): Name of the month (case-insensitive).\n",
    "\n",
    "    Returns:\n",
    "    - str: The season corresponding to the given month.\n",
    "    \"\"\"\n",
    "    month = month.lower()\n",
    "\n",
    "    if month in ['december', 'january', 'february']:\n",
    "        return 'Winter'\n",
    "    elif month in ['march', 'april', 'may']:\n",
    "        return 'Spring'\n",
    "    elif month in ['june', 'july', 'august']:\n",
    "        return 'Summer'\n",
    "    elif month in ['september', 'october', 'november']:\n",
    "        return 'Autumn'\n",
    "    else:\n",
    "        return 'Invalid month'\n",
    "\n",
    "# Example usage:\n",
    "input_month = 'May'\n",
    "result_season = check_season(input_month)\n",
    "print(f\"The season for {input_month} is: {result_season}\")\n"
   ]
  },
  {
   "cell_type": "markdown",
   "metadata": {},
   "source": [
    "No. 6 Write a function called calculate_slope which return the slope of a linear equation"
   ]
  },
  {
   "cell_type": "code",
   "execution_count": null,
   "metadata": {},
   "outputs": [],
   "source": [
    "def calculate_slope(m, x, b):\n",
    "    \"\"\"\n",
    "    Calculates the slope of a linear equation.\n",
    "\n",
    "    Parameters:\n",
    "    - m (float): Coefficient of the x term.\n",
    "    - x (float): Value of x.\n",
    "    - b (float): y-intercept.\n",
    "\n",
    "    Returns:\n",
    "    - float: The slope of the linear equation.\n",
    "    \"\"\"\n",
    "    slope = m\n",
    "    return slope\n",
    "\n",
    "# Example usage:\n",
    "coefficient_of_x = 2.5\n",
    "x_value = 3.0\n",
    "y_intercept = 1.0\n",
    "\n",
    "slope_result = calculate_slope(coefficient_of_x, x_value, y_intercept)\n",
    "print(f\"The slope of the linear equation is: {slope_result}\")\n"
   ]
  },
  {
   "cell_type": "markdown",
   "metadata": {},
   "source": [
    "No. 7 Quadratic equation is calculated as follows: ax² + bx + c = 0. Write a function which calculates solution set of a quadratic equation, solve_quadratic_eqn."
   ]
  },
  {
   "cell_type": "code",
   "execution_count": null,
   "metadata": {},
   "outputs": [],
   "source": [
    "import cmath  # Importing cmath for handling complex numbers\n",
    "\n",
    "def solve_quadratic_eqn(a, b, c):\n",
    "    \"\"\"\n",
    "    Calculates the solution set of a quadratic equation.\n",
    "\n",
    "    Parameters:\n",
    "    - a (float): Coefficient of x^2.\n",
    "    - b (float): Coefficient of x.\n",
    "    - c (float): Constant term.\n",
    "\n",
    "    Returns:\n",
    "    - tuple: A tuple containing two solutions (real or complex).\n",
    "    \"\"\"\n",
    "    # Calculate the discriminant\n",
    "    discriminant = cmath.sqrt(b**2 - 4*a*c)\n",
    "\n",
    "    # Calculate the solutions using the quadratic formula\n",
    "    root1 = (-b + discriminant) / (2*a)\n",
    "    root2 = (-b - discriminant) / (2*a)\n",
    "\n",
    "    return root1, root2\n",
    "\n",
    "# Example usage:\n",
    "coefficient_a = 1\n",
    "coefficient_b = -3\n",
    "constant_c = 2\n",
    "\n",
    "solution_set = solve_quadratic_eqn(coefficient_a, coefficient_b, constant_c)\n",
    "print(f\"The solution set\n"
   ]
  },
  {
   "cell_type": "markdown",
   "metadata": {},
   "source": [
    "No. 8 Declare a function named print_list. It takes a list as a parameter and it prints out each element of the list."
   ]
  },
  {
   "cell_type": "code",
   "execution_count": null,
   "metadata": {},
   "outputs": [],
   "source": [
    "def print_list(my_list):\n",
    "    \"\"\"\n",
    "    Prints each element of the given list.\n",
    "\n",
    "    Parameters:\n",
    "    - my_list (list): The input list.\n",
    "    \"\"\"\n",
    "    for element in my_list:\n",
    "        print(element)\n",
    "\n",
    "# Example usage:\n",
    "example_list = [1, 2, 3, 4, 5]\n",
    "print_list(example_list)\n"
   ]
  },
  {
   "cell_type": "markdown",
   "metadata": {},
   "source": [
    "No. 9 Declare a function named reverse_list. It takes an array as a parameter and it returns the reverse of the array (use loops).\n",
    "print(reverse_list([1, 2, 3, 4, 5]))\n",
    "# [5, 4, 3, 2, 1]\n",
    "print(reverse_list1([\"A\", \"B\", \"C\"]))\n",
    "# [\"C\", \"B\", \"A\"]"
   ]
  },
  {
   "cell_type": "code",
   "execution_count": null,
   "metadata": {},
   "outputs": [],
   "source": [
    "def reverse_list(my_list):\n",
    "    \"\"\"\n",
    "    Returns the reverse of the given list.\n",
    "\n",
    "    Parameters:\n",
    "    - my_list (list): The input list.\n",
    "\n",
    "    Returns:\n",
    "    - list: The reversed list.\n",
    "    \"\"\"\n",
    "    reversed_list = []\n",
    "    for i in range(len(my_list) - 1, -1, -1):\n",
    "        reversed_list.append(my_list[i])\n",
    "    return reversed_list\n",
    "\n",
    "# Example usage:\n",
    "example_list1 = [1, 2, 3, 4, 5]\n",
    "example_list2 = [\"A\", \"B\", \"C\"]\n",
    "\n",
    "result1 = reverse_list(example_list1)\n",
    "result2 = reverse_list(example_list2)\n",
    "\n",
    "print(result1)  \n",
    "print(result2) \n"
   ]
  },
  {
   "cell_type": "markdown",
   "metadata": {},
   "source": [
    "No. 10 Declare a function named capitalize_list_items. It takes a list as a parameter and it returns a capitalized list of items"
   ]
  },
  {
   "cell_type": "code",
   "execution_count": null,
   "metadata": {},
   "outputs": [],
   "source": [
    "def capitalize_list_items(my_list):\n",
    "    \"\"\"\n",
    "    Returns a capitalized list of items.\n",
    "\n",
    "    Parameters:\n",
    "    - my_list (list): The input list.\n",
    "\n",
    "    Returns:\n",
    "    - list: The capitalized list.\n",
    "    \"\"\"\n",
    "    capitalized_list = [item.capitalize() for item in my_list]\n",
    "    return capitalized_list\n",
    "\n",
    "# Example usage:\n",
    "example_list = [\"apple\", \"banana\", \"cherry\"]\n",
    "\n",
    "capitalized_result = capitalize_list_items(example_list)\n",
    "print(capitalized_result)\n",
    "\n"
   ]
  },
  {
   "cell_type": "markdown",
   "metadata": {},
   "source": [
    "No. 11 Declare a function named add_item. It takes a list and an item parameters. It returns a list with the item added at the end.\n",
    "food_staff = ['Potato', 'Tomato', 'Mango', 'Milk'];\n",
    "print(add_item(food_staff, 'Meat'))     # ['Potato', 'Tomato', 'Mango', 'Milk','Meat'];\n",
    "numbers = [2, 3, 7, 9];\n",
    "print(add_item(numbers, 5))      [2, 3, 7, 9, 5]"
   ]
  },
  {
   "cell_type": "code",
   "execution_count": null,
   "metadata": {},
   "outputs": [],
   "source": [
    "def add_item(my_list, item):\n",
    "    \"\"\"\n",
    "    Returns a list with the item added at the end.\n",
    "\n",
    "    Parameters:\n",
    "    - my_list (list): The input list.\n",
    "    - item: The item to be added.\n",
    "\n",
    "    Returns:\n",
    "    - list: The list with the item added.\n",
    "    \"\"\"\n",
    "    new_list = my_list.copy()\n",
    "    new_list.append(item)\n",
    "    return new_list\n",
    "\n",
    "# Example usage:\n",
    "food_staff = ['Potato', 'Tomato', 'Mango', 'Milk']\n",
    "numbers = [2, 3, 7, 9]\n",
    "\n",
    "result1 = add_item(food_staff, 'Meat')\n",
    "result2 = add_item(numbers, 5)\n",
    "\n",
    "print(result1)  \n",
    "print(result2)  \n"
   ]
  },
  {
   "cell_type": "markdown",
   "metadata": {},
   "source": [
    "No. 12 Declare a function named remove_item. It takes a list and an item parameters. It returns a list with the item removed from it.\n",
    "food_staff = ['Potato', 'Tomato', 'Mango', 'Milk'];\n",
    "print(remove_item(food_staff, 'Mango'))  # ['Potato', 'Tomato', 'Milk'];\n",
    "numbers = [2, 3, 7, 9];\n",
    "print(remove_item(numbers, 3))  # [2, 7, 9]"
   ]
  },
  {
   "cell_type": "code",
   "execution_count": null,
   "metadata": {},
   "outputs": [],
   "source": [
    "def remove_item(my_list, item):\n",
    "    \"\"\"\n",
    "    Returns a list with the specified item removed.\n",
    "\n",
    "    Parameters:\n",
    "    - my_list (list): The input list.\n",
    "    - item: The item to be removed.\n",
    "\n",
    "    Returns:\n",
    "    - list: The list with the item removed.\n",
    "    \"\"\"\n",
    "    new_list = [x for x in my_list if x != item]\n",
    "    return new_list\n",
    "\n",
    "# Example usage:\n",
    "food_staff = ['Potato', 'Tomato', 'Mango', 'Milk']\n",
    "numbers = [2, 3, 7, 9]\n",
    "\n",
    "result1 = remove_item(food_staff, 'Mango')\n",
    "result2 = remove_item(numbers, 3)\n",
    "\n",
    "print(result1)  \n",
    "print(result2)  "
   ]
  },
  {
   "cell_type": "markdown",
   "metadata": {},
   "source": [
    "No. 13 Declare a function named sum_of_numbers. It takes a number parameter and it adds all the numbers in that range.\n",
    "print(sum_of_numbers(5))  # 15\n",
    "print(sum_all_numbers(10)) # 55\n",
    "print(sum_all_numbers(100)) # 5050"
   ]
  },
  {
   "cell_type": "code",
   "execution_count": null,
   "metadata": {},
   "outputs": [],
   "source": [
    "def sum_of_numbers(n):\n",
    "    \"\"\"\n",
    "    Adds all numbers in the range from 1 to the given number.\n",
    "\n",
    "    Parameters:\n",
    "    - n (int): The given number.\n",
    "\n",
    "    Returns:\n",
    "    - int: The sum of numbers from 1 to n.\n",
    "    \"\"\"\n",
    "    return sum(range(1, n + 1))\n",
    "\n",
    "# Example usage:\n",
    "result1 = sum_of_numbers(5)\n",
    "result2 = sum_of_numbers(10)\n",
    "result3 = sum_of_numbers(100)\n",
    "\n",
    "print(result1) \n",
    "print(result2) \n",
    "print(result3) \n"
   ]
  }
 ],
 "metadata": {
  "kernelspec": {
   "display_name": "datascience",
   "language": "python",
   "name": "python3"
  },
  "language_info": {
   "name": "python",
   "version": "3.11.5"
  }
 },
 "nbformat": 4,
 "nbformat_minor": 2
}
