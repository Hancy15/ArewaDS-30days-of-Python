{
 "cells": [
  {
   "cell_type": "markdown",
   "metadata": {},
   "source": [
    "Exercises: Day 7\n",
    "# sets\n",
    "it_companies = {'Facebook', 'Google', 'Microsoft', 'Apple', 'IBM', 'Oracle', 'Amazon'}\n",
    "A = {19, 22, 24, 20, 25, 26}\n",
    "B = {19, 22, 20, 25, 26, 24, 28, 27}\n",
    "age = [22, 19, 24, 25, 26, 24, 25, 24]"
   ]
  },
  {
   "cell_type": "markdown",
   "metadata": {},
   "source": [
    "Exercises: Level 1"
   ]
  },
  {
   "cell_type": "markdown",
   "metadata": {},
   "source": [
    "No. 1 Find the length of the set it_companies"
   ]
  },
  {
   "cell_type": "code",
   "execution_count": 15,
   "metadata": {},
   "outputs": [
    {
     "name": "stdout",
     "output_type": "stream",
     "text": [
      "Length of it_companies set: 7\n"
     ]
    }
   ],
   "source": [
    "it_companies = {'Facebook', 'Google', 'Microsoft', 'Apple', 'IBM', 'Oracle', 'Amazon'}\n",
    "\n",
    "length_of_it_companies = len(it_companies)\n",
    "\n",
    "print(\"Length of it_companies set:\", length_of_it_companies)\n"
   ]
  },
  {
   "cell_type": "markdown",
   "metadata": {},
   "source": [
    "No. 2 Add 'Twitter' to it_companies"
   ]
  },
  {
   "cell_type": "code",
   "execution_count": 16,
   "metadata": {},
   "outputs": [
    {
     "name": "stdout",
     "output_type": "stream",
     "text": [
      "Updated it_companies set: {'Amazon', 'Oracle', 'IBM', 'Facebook', 'Google', 'Twitter', 'Apple', 'Microsoft'}\n"
     ]
    }
   ],
   "source": [
    "it_companies = {'Facebook', 'Google', 'Microsoft', 'Apple', 'IBM', 'Oracle', 'Amazon'}\n",
    "\n",
    "# Adding 'Twitter' to it_companies set\n",
    "it_companies.add('Twitter')\n",
    "\n",
    "print(\"Updated it_companies set:\", it_companies)\n"
   ]
  },
  {
   "cell_type": "markdown",
   "metadata": {},
   "source": [
    "No. 3 Insert multiple IT companies at once to the set it_companies"
   ]
  },
  {
   "cell_type": "code",
   "execution_count": 17,
   "metadata": {},
   "outputs": [
    {
     "name": "stdout",
     "output_type": "stream",
     "text": [
      "Updated it_companies set: {'Amazon', 'Cisco', 'LinkedIn', 'Oracle', 'IBM', 'Intel', 'Apple', 'Facebook', 'Google', 'Twitter', 'Microsoft'}\n"
     ]
    }
   ],
   "source": [
    "it_companies = {'Facebook', 'Google', 'Microsoft', 'Apple', 'IBM', 'Oracle', 'Amazon'}\n",
    "\n",
    "# List of IT companies to add\n",
    "new_companies = {'Twitter', 'LinkedIn', 'Intel', 'Cisco'}\n",
    "\n",
    "# Adding multiple IT companies to it_companies set\n",
    "it_companies.update(new_companies)\n",
    "\n",
    "print(\"Updated it_companies set:\", it_companies)\n"
   ]
  },
  {
   "cell_type": "markdown",
   "metadata": {},
   "source": [
    "No. 4 Remove one of the companies from the set it_companies"
   ]
  },
  {
   "cell_type": "code",
   "execution_count": 18,
   "metadata": {},
   "outputs": [
    {
     "name": "stdout",
     "output_type": "stream",
     "text": [
      "Updated it_companies set: {'Amazon', 'IBM', 'Facebook', 'Google', 'Apple', 'Microsoft'}\n"
     ]
    }
   ],
   "source": [
    "it_companies = {'Facebook', 'Google', 'Microsoft', 'Apple', 'IBM', 'Oracle', 'Amazon'}\n",
    "\n",
    "# Removing 'Oracle' from it_companies set\n",
    "it_companies.remove('Oracle')\n",
    "\n",
    "print(\"Updated it_companies set:\", it_companies)\n"
   ]
  },
  {
   "cell_type": "markdown",
   "metadata": {},
   "source": [
    "No. 5 What is the difference between remove and discard"
   ]
  },
  {
   "cell_type": "code",
   "execution_count": 19,
   "metadata": {},
   "outputs": [],
   "source": [
    "# Both remove() and discard() are methods used to remove an element from a set in Python, but there is a key difference:\n",
    "\n",
    "#remove() method:\n",
    "\n",
    "#Used to remove a specified element from the set. Raises a KeyError if the element is not found in the set.\n",
    "#Example:\n",
    "\n",
    "it_companies = {'Facebook', 'Google', 'Microsoft', 'Apple', 'IBM', 'Oracle', 'Amazon'}\n",
    "it_companies.remove('Oracle')\n",
    "\n",
    "\n",
    "#discard() method:\n",
    "\n",
    "# Used to remove a specified element from the set. Does not raise an error if the element is not found in the set.\n",
    "#Example:\n",
    "\n",
    "it_companies = {'Facebook', 'Google', 'Microsoft', 'Apple', 'IBM', 'Oracle', 'Amazon'}\n",
    "it_companies.discard('Oracle')"
   ]
  },
  {
   "cell_type": "markdown",
   "metadata": {},
   "source": [
    "Exercise Level 2"
   ]
  },
  {
   "cell_type": "markdown",
   "metadata": {},
   "source": [
    "No. 1 Join  A and B"
   ]
  },
  {
   "cell_type": "code",
   "execution_count": 20,
   "metadata": {},
   "outputs": [
    {
     "name": "stdout",
     "output_type": "stream",
     "text": [
      "Union of sets A and B using union(): {19, 20, 22, 24, 25, 26, 27, 28}\n"
     ]
    }
   ],
   "source": [
    "A = {19, 22, 24, 20, 25, 26}\n",
    "B = {19, 22, 20, 25, 26, 24, 28, 27}\n",
    "\n",
    "result_union_method = A.union(B)\n",
    "\n",
    "print(\"Union of sets A and B using union():\", result_union_method)\n"
   ]
  },
  {
   "cell_type": "markdown",
   "metadata": {},
   "source": [
    "No. 2 Find A intersection B"
   ]
  },
  {
   "cell_type": "code",
   "execution_count": 21,
   "metadata": {},
   "outputs": [
    {
     "name": "stdout",
     "output_type": "stream",
     "text": [
      "Intersection of sets A and B using intersection(): {19, 20, 22, 24, 25, 26}\n"
     ]
    }
   ],
   "source": [
    "A = {19, 22, 24, 20, 25, 26}\n",
    "B = {19, 22, 20, 25, 26, 24, 28, 27}\n",
    "\n",
    "result_intersection_method = A.intersection(B)\n",
    "\n",
    "print(\"Intersection of sets A and B using intersection():\", result_intersection_method)\n"
   ]
  },
  {
   "cell_type": "markdown",
   "metadata": {},
   "source": [
    "No. 3 Is A subset of B"
   ]
  },
  {
   "cell_type": "code",
   "execution_count": 22,
   "metadata": {},
   "outputs": [
    {
     "name": "stdout",
     "output_type": "stream",
     "text": [
      "Is A a subset of B using issubset(): True\n"
     ]
    }
   ],
   "source": [
    "A = {19, 22, 24, 20, 25, 26}\n",
    "B = {19, 22, 20, 25, 26, 24, 28, 27}\n",
    "\n",
    "is_subset_method = A.issubset(B)\n",
    "\n",
    "print(\"Is A a subset of B using issubset():\", is_subset_method)\n"
   ]
  },
  {
   "cell_type": "markdown",
   "metadata": {},
   "source": [
    "No. 4 Are A and B disjoint sets"
   ]
  },
  {
   "cell_type": "code",
   "execution_count": 23,
   "metadata": {},
   "outputs": [
    {
     "name": "stdout",
     "output_type": "stream",
     "text": [
      "Are sets A and B disjoint: False\n"
     ]
    }
   ],
   "source": [
    "A = {19, 22, 24, 20, 25, 26}\n",
    "B = {19, 22, 20, 25, 26, 24, 28, 27}\n",
    "\n",
    "are_disjoint = A.isdisjoint(B)\n",
    "\n",
    "print(\"Are sets A and B disjoint:\", are_disjoint)\n"
   ]
  },
  {
   "cell_type": "markdown",
   "metadata": {},
   "source": [
    "No. 5 Join A with B and B with A"
   ]
  },
  {
   "cell_type": "code",
   "execution_count": 24,
   "metadata": {},
   "outputs": [
    {
     "name": "stdout",
     "output_type": "stream",
     "text": [
      "Concatenate A with B: {19, 20, 22, 24, 25, 26, 27, 28}\n",
      "Concatenate B with A: {19, 20, 22, 24, 25, 26, 27, 28}\n"
     ]
    }
   ],
   "source": [
    "A = {19, 22, 24, 20, 25, 26}\n",
    "B = {19, 22, 20, 25, 26, 24, 28, 27}\n",
    "\n",
    "# Concatenate A with B\n",
    "result_concatenate_A_B = A.union(B)\n",
    "\n",
    "# Concatenate B with A\n",
    "result_concatenate_B_A = B.union(A)\n",
    "\n",
    "print(\"Concatenate A with B:\", result_concatenate_A_B)\n",
    "print(\"Concatenate B with A:\", result_concatenate_B_A)\n"
   ]
  },
  {
   "cell_type": "markdown",
   "metadata": {},
   "source": [
    "No. 6 What is the symmetric difference between A and B"
   ]
  },
  {
   "cell_type": "code",
   "execution_count": 25,
   "metadata": {},
   "outputs": [
    {
     "name": "stdout",
     "output_type": "stream",
     "text": [
      "Symmetric difference between sets A and B: {27, 28}\n"
     ]
    }
   ],
   "source": [
    "A = {19, 22, 24, 20, 25, 26}\n",
    "B = {19, 22, 20, 25, 26, 24, 28, 27}\n",
    "\n",
    "symmetric_difference_result = A.symmetric_difference(B)\n",
    "\n",
    "print(\"Symmetric difference between sets A and B:\", symmetric_difference_result)\n"
   ]
  },
  {
   "cell_type": "markdown",
   "metadata": {},
   "source": [
    "No. 7 Delete the sets completely"
   ]
  },
  {
   "cell_type": "code",
   "execution_count": 26,
   "metadata": {},
   "outputs": [],
   "source": [
    "del it_companies"
   ]
  },
  {
   "cell_type": "markdown",
   "metadata": {},
   "source": [
    "Exercise level 3"
   ]
  },
  {
   "cell_type": "markdown",
   "metadata": {},
   "source": [
    "No. 1 Convert the ages to a set and compare the length of the list and the set, which one is bigger?"
   ]
  },
  {
   "cell_type": "code",
   "execution_count": 27,
   "metadata": {},
   "outputs": [
    {
     "name": "stdout",
     "output_type": "stream",
     "text": [
      "Length of the list: 8\n",
      "Length of the set: 5\n",
      "The list is bigger.\n"
     ]
    }
   ],
   "source": [
    "age = [22, 19, 24, 25, 26, 24, 25, 24]\n",
    "\n",
    "# Convert the list to a set\n",
    "age_set = set(age)\n",
    "\n",
    "# Compare the lengths\n",
    "length_of_list = len(age)\n",
    "length_of_set = len(age_set)\n",
    "\n",
    "# Print the results\n",
    "print(\"Length of the list:\", length_of_list)\n",
    "print(\"Length of the set:\", length_of_set)\n",
    "\n",
    "# Compare which one is bigger\n",
    "if length_of_list > length_of_set:\n",
    "    print(\"The list is bigger.\")\n",
    "elif length_of_set > length_of_list:\n",
    "    print(\"The set is bigger.\")\n",
    "else:\n",
    "    print(\"The list and set have the same length.\")\n"
   ]
  },
  {
   "cell_type": "markdown",
   "metadata": {},
   "source": [
    "No. 2 Explain the difference between the following data types: string, list, tuple and set"
   ]
  },
  {
   "cell_type": "markdown",
   "metadata": {},
   "source": [
    "In short:\n",
    "\n",
    "1. **String:**\n",
    "   - Immutable sequence of characters.\n",
    "   - Enclosed in single (`'`) or double (`\"`) quotes.\n",
    "\n",
    "2. **List:**\n",
    "   - Mutable, ordered sequence of elements.\n",
    "   - Enclosed in square brackets (`[]`).\n",
    "\n",
    "3. **Tuple:**\n",
    "   - Immutable, ordered sequence of elements.\n",
    "   - Enclosed in parentheses (`()`).\n",
    "\n",
    "4. **Set:**\n",
    "   - Unordered collection of unique elements.\n",
    "   - Enclosed in curly braces (`{}`)."
   ]
  },
  {
   "cell_type": "markdown",
   "metadata": {},
   "source": [
    "No. 3 I am a teacher and I love to inspire and teach people. How many unique words have been used in the sentence? Use the split methods and set to get the unique words."
   ]
  },
  {
   "cell_type": "code",
   "execution_count": 28,
   "metadata": {},
   "outputs": [
    {
     "name": "stdout",
     "output_type": "stream",
     "text": [
      "Number of unique words: 10\n",
      "Unique words: {'and', 'love', 'people.', 'am', 'I', 'inspire', 'teach', 'to', 'teacher', 'a'}\n"
     ]
    }
   ],
   "source": [
    "sentence = \"I am a teacher and I love to inspire and teach people.\"\n",
    "\n",
    "# Split the sentence into words\n",
    "words = sentence.split()\n",
    "\n",
    "# Create a set to get unique words\n",
    "unique_words = set(words)\n",
    "\n",
    "# Print the result\n",
    "print(\"Number of unique words:\", len(unique_words))\n",
    "print(\"Unique words:\", unique_words)\n"
   ]
  }
 ],
 "metadata": {
  "kernelspec": {
   "display_name": "datascience",
   "language": "python",
   "name": "python3"
  },
  "language_info": {
   "codemirror_mode": {
    "name": "ipython",
    "version": 3
   },
   "file_extension": ".py",
   "mimetype": "text/x-python",
   "name": "python",
   "nbconvert_exporter": "python",
   "pygments_lexer": "ipython3",
   "version": "3.11.5"
  }
 },
 "nbformat": 4,
 "nbformat_minor": 2
}
