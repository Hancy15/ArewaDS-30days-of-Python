{
 "cells": [
  {
   "cell_type": "markdown",
   "metadata": {},
   "source": [
    "Exercises: Day 9"
   ]
  },
  {
   "cell_type": "markdown",
   "metadata": {},
   "source": [
    "Exercises: Level 1"
   ]
  },
  {
   "cell_type": "markdown",
   "metadata": {},
   "source": [
    "No. 1 Get user input using input(“Enter your age: ”). If user is 18 or older, give feedback: You are old enough to drive. If below 18 give feedback to wait for the missing amount of years. Output:\n",
    "Enter your age: 30\n",
    "You are old enough to learn to drive.\n",
    "Output:\n",
    "Enter your age: 15\n",
    "You need 3 more years to learn to drive."
   ]
  },
  {
   "cell_type": "code",
   "execution_count": null,
   "metadata": {},
   "outputs": [],
   "source": [
    "# Get user input for age\n",
    "user_age = int(input(\"Enter your age: \"))\n",
    "\n",
    "# Check the age and provide feedback\n",
    "if user_age >= 18:\n",
    "    print(\"You are old enough to learn to drive.\")\n",
    "else:\n",
    "    years_to_wait = 18 - user_age\n",
    "    print(f\"You need {years_to_wait} more years to learn to drive.\")\n"
   ]
  },
  {
   "cell_type": "markdown",
   "metadata": {},
   "source": [
    "No. 2 Compare the values of my_age and your_age using if … else. Who is older (me or you)? Use input(“Enter your age: ”) to get the age as input. You can use a nested condition to print 'year' for 1 year difference in age, 'years' for bigger differences, and a custom text if my_age = your_age. Output:\n",
    "Enter your age: 30\n",
    "You are 5 years older than me."
   ]
  },
  {
   "cell_type": "code",
   "execution_count": null,
   "metadata": {},
   "outputs": [],
   "source": [
    "# Get user input for your age\n",
    "your_age = int(input(\"Enter your age: \"))\n",
    "\n",
    "# Assume my age for this example\n",
    "my_age = 25\n",
    "\n",
    "# Compare ages and provide feedback\n",
    "if my_age > your_age:\n",
    "    age_difference = my_age - your_age\n",
    "    if age_difference == 1:\n",
    "        print(f\"I am 1 year older than you.\")\n",
    "    else:\n",
    "        print(f\"I am {age_difference} years older than you.\")\n",
    "elif my_age < your_age:\n",
    "    age_difference = your_age - my_age\n",
    "    if age_difference == 1:\n",
    "        print(f\"You are 1 year older than me.\")\n",
    "    else:\n",
    "        print(f\"You are {age_difference} years older than me.\")\n",
    "else:\n",
    "    print(\"We are the same age.\")\n"
   ]
  },
  {
   "cell_type": "markdown",
   "metadata": {},
   "source": [
    "No. 3 Get two numbers from the user using input prompt. If a is greater than b return a is greater than b, if a is less b return a is smaller than b, else a is equal to b. Output:\n",
    "Enter number one: 4\n",
    "Enter number two: 3\n",
    "4 is greater than 3"
   ]
  },
  {
   "cell_type": "code",
   "execution_count": null,
   "metadata": {},
   "outputs": [],
   "source": [
    "# Get user input for the first number\n",
    "a = float(input(\"Enter number one: \"))\n",
    "\n",
    "# Get user input for the second number\n",
    "b = float(input(\"Enter number two: \"))\n",
    "\n",
    "# Compare the numbers and provide feedback\n",
    "if a > b:\n",
    "    print(f\"{a} is greater than {b}.\")\n",
    "elif a < b:\n",
    "    print(f\"{a} is smaller than {b}.\")\n",
    "else:\n",
    "    print(f\"{a} is equal to {b}.\")\n"
   ]
  },
  {
   "cell_type": "markdown",
   "metadata": {},
   "source": [
    "Exercise Level 2"
   ]
  },
  {
   "cell_type": "markdown",
   "metadata": {},
   "source": [
    "N0 1 Write a code which gives grade to students according to theirs scores:\n",
    "\n",
    "80-100, A\n",
    "70-89, B\n",
    "60-69, C\n",
    "50-59, D\n",
    "0-49, F"
   ]
  },
  {
   "cell_type": "code",
   "execution_count": null,
   "metadata": {},
   "outputs": [],
   "source": [
    "# Get user input for the student's score\n",
    "score = float(input(\"Enter the student's score: \"))\n",
    "\n",
    "# Determine the grade based on the score\n",
    "if 80 <= score <= 100:\n",
    "    grade = \"A\"\n",
    "elif 70 <= score < 80:\n",
    "    grade = \"B\"\n",
    "elif 60 <= score < 70:\n",
    "    grade = \"C\"\n",
    "elif 50 <= score < 60:\n",
    "    grade = \"D\"\n",
    "elif 0 <= score < 50:\n",
    "    grade = \"F\"\n",
    "else:\n",
    "    grade = \"Invalid score (should be between 0 and 100)\"\n",
    "\n",
    "# Print the assigned grade\n",
    "print(f\"The student's grade is: {grade}\")\n"
   ]
  },
  {
   "cell_type": "markdown",
   "metadata": {},
   "source": [
    "No. 2 Check if the season is Autumn, Winter, Spring or Summer. If the user input is: September, October or November, the season is Autumn. December, January or February, the season is Winter. March, April or May, the season is Spring June, July or August, the season is Summer"
   ]
  },
  {
   "cell_type": "code",
   "execution_count": null,
   "metadata": {},
   "outputs": [],
   "source": [
    "# Get user input for the month\n",
    "month = input(\"Enter the month: \").lower()\n",
    "\n",
    "# Check the season based on the month\n",
    "if month in [\"september\", \"october\", \"november\"]:\n",
    "    season = \"Autumn\"\n",
    "elif month in [\"december\", \"january\", \"february\"]:\n",
    "    season = \"Winter\"\n",
    "elif month in [\"march\", \"april\", \"may\"]:\n",
    "    season = \"Spring\"\n",
    "elif month in [\"june\", \"july\", \"august\"]:\n",
    "    season = \"Summer\"\n",
    "else:\n",
    "    season = \"Invalid month\"\n",
    "\n",
    "# Print the determined season\n",
    "print(f\"The season for {month.capitalize()} is {season}.\")\n"
   ]
  },
  {
   "cell_type": "markdown",
   "metadata": {},
   "source": [
    "No. 3 The following list contains some fruits:\n",
    "\n",
    "fruits = ['banana', 'orange', 'mango', 'lemon']\n",
    "If a fruit doesn't exist in the list add the fruit to the list and print the modified list. If the fruit exists print('That fruit already exist in the list')"
   ]
  },
  {
   "cell_type": "code",
   "execution_count": null,
   "metadata": {},
   "outputs": [],
   "source": [
    "# The existing list of fruits\n",
    "fruits = ['banana', 'orange', 'mango', 'lemon']\n",
    "\n",
    "# Get user input for a new fruit\n",
    "new_fruit = input(\"Enter a fruit: \").lower()\n",
    "\n",
    "# Check if the fruit already exists in the list\n",
    "if new_fruit in fruits:\n",
    "    print(f\"'{new_fruit.capitalize()}' already exists in the list.\")\n",
    "else:\n",
    "    # Add the new fruit to the list\n",
    "    fruits.append(new_fruit)\n",
    "    print(f\"'{new_fruit.capitalize()}' has been added to the list.\")\n",
    "\n",
    "# Print the modified list\n",
    "print(\"Modified list of fruits:\", fruits)\n"
   ]
  },
  {
   "cell_type": "markdown",
   "metadata": {},
   "source": [
    "Exercises: Level 3"
   ]
  },
  {
   "cell_type": "markdown",
   "metadata": {},
   "source": [
    "No. 3 Here we have a person dictionary. Feel free to modify it!\n",
    "\n",
    "        person={\n",
    "    'first_name': 'Asabeneh',\n",
    "    'last_name': 'Yetayeh',\n",
    "    'age': 250,\n",
    "    'country': 'Finland',\n",
    "    'is_marred': True,\n",
    "    'skills': ['JavaScript', 'React', 'Node', 'MongoDB', 'Python'],\n",
    "    'address': {\n",
    "        'street': 'Space street',\n",
    "        'zipcode': '02210'\n",
    "    }\n",
    "    }\n",
    " * Check if the person dictionary has skills key, if so print out the middle skill in the skills list.\n",
    " * Check if the person dictionary has skills key, if so check if the person has 'Python' skill and print out the result.\n",
    " * If a person skills has only JavaScript and React, print('He is a front end developer'), if the person skills has Node, Python, MongoDB, print('He is a backend developer'), if the person skills has React, Node and MongoDB, Print('He is a fullstack developer'), else print('unknown title') - for more accurate results more conditions can be nested!\n",
    " * If the person is married and if he lives in Finland, print the information in the following format:"
   ]
  },
  {
   "cell_type": "code",
   "execution_count": null,
   "metadata": {},
   "outputs": [],
   "source": [
    "person = {\n",
    "    'first_name': 'Asabeneh',\n",
    "    'last_name': 'Yetayeh',\n",
    "    'age': 250,\n",
    "    'country': 'Finland',\n",
    "    'is_married': True,\n",
    "    'skills': ['JavaScript', 'React', 'Node', 'MongoDB', 'Python'],\n",
    "    'address': {\n",
    "        'street': 'Space street',\n",
    "        'zipcode': '02210'\n",
    "    }\n",
    "}\n",
    "\n",
    "# Check if the person dictionary has 'skills' key\n",
    "if 'skills' in person:\n",
    "    # Print out the middle skill in the skills list\n",
    "    skills_list = person['skills']\n",
    "    if len(skills_list) > 0:\n",
    "        middle_index = len(skills_list) // 2\n",
    "        print(f\"Middle skill: {skills_list[middle_index]}\")\n",
    "\n",
    "    # Check if the person has 'Python' skill\n",
    "    if 'Python' in skills_list:\n",
    "        print(\"Person has 'Python' skill.\")\n",
    "\n",
    "    # Check for developer title based on skills\n",
    "    if set(skills_list) == {'JavaScript', 'React'}:\n",
    "        print(\"He is a front end developer\")\n",
    "    elif set(skills_list) == {'Node', 'Python', 'MongoDB'}:\n",
    "        print(\"He is a backend developer\")\n",
    "    elif set(skills_list) == {'React', 'Node', 'MongoDB'}:\n",
    "        print(\"He is a fullstack developer\")\n",
    "    else:\n",
    "        print(\"Unknown title\")\n",
    "\n",
    "# Check if the person is married and lives in Finland\n",
    "if person.get('is_married') and person.get('country') == 'Finland':\n",
    "    print(f\"{person['first_name']} {person['last_name']} is married and lives in Finland.\")\n"
   ]
  }
 ],
 "metadata": {
  "kernelspec": {
   "display_name": "datascience",
   "language": "python",
   "name": "python3"
  },
  "language_info": {
   "codemirror_mode": {
    "name": "ipython",
    "version": 3
   },
   "file_extension": ".py",
   "mimetype": "text/x-python",
   "name": "python",
   "nbconvert_exporter": "python",
   "pygments_lexer": "ipython3",
   "version": "3.11.5"
  }
 },
 "nbformat": 4,
 "nbformat_minor": 2
}
