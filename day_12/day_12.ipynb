{
 "cells": [
  {
   "cell_type": "markdown",
   "metadata": {},
   "source": [
    "💻 Exercises: Day 12"
   ]
  },
  {
   "cell_type": "markdown",
   "metadata": {},
   "source": [
    "Exercises: Level 1\n",
    "No. 1 Writ a function which generates a six digit/character random_user_id.\n",
    "  print(random_user_id());\n",
    "  '1ee33d'"
   ]
  },
  {
   "cell_type": "code",
   "execution_count": 1,
   "metadata": {},
   "outputs": [
    {
     "name": "stdout",
     "output_type": "stream",
     "text": [
      "80csl0\n"
     ]
    }
   ],
   "source": [
    "import random\n",
    "import string\n",
    "\n",
    "def random_user_id():\n",
    "    return ''.join(random.choices(string.ascii_lowercase + string.digits, k=6))\n",
    "\n",
    "# Example usage\n",
    "print(random_user_id())\n"
   ]
  },
  {
   "cell_type": "markdown",
   "metadata": {},
   "source": [
    "No. 2 Modify the previous task. Declare a function named user_id_gen_by_user. It doesn’t take any parameters but it takes two inputs using input(). One of the inputs is the number of characters and the second input is the number of IDs which are supposed to be generated.\n",
    "print(user_id_gen_by_user()) # user input: 5 5\n",
    "#output:\n",
    "#kcsy2\n",
    "#SMFYb\n",
    "#bWmeq\n",
    "#ZXOYh\n",
    "#2Rgxf\n",
    "   \n",
    "print(user_id_gen_by_user()) # 16 5\n",
    "#1GCSgPLMaBAVQZ26\n",
    "#YD7eFwNQKNs7qXaT\n",
    "#ycArC5yrRupyG00S\n",
    "#UbGxOFI7UXSWAyKN\n",
    "#dIV0SSUTgAdKwStr"
   ]
  },
  {
   "cell_type": "code",
   "execution_count": 2,
   "metadata": {},
   "outputs": [
    {
     "name": "stdout",
     "output_type": "stream",
     "text": [
      "4yDXc66TlA\n",
      "lLL6ZFKLFy\n",
      "ZTDOiyPet8\n",
      "HaMRRwtwZJ\n",
      "DGk1PVVifS\n",
      "qgX0pvyols\n",
      "rQFG7MW2j6\n",
      "3jh1Alci1w\n",
      "jImtlJCPWm\n",
      "Jd8J3LzZoS\n"
     ]
    }
   ],
   "source": [
    "import random\n",
    "import string\n",
    "\n",
    "def user_id_gen_by_user():\n",
    "    # Input from the user for the number of characters and the number of IDs\n",
    "    char_count = 10\n",
    "    id_count = 10\n",
    "    \n",
    "    # Generate user IDs\n",
    "    user_ids = []\n",
    "    for _ in range(id_count):\n",
    "        user_id = ''.join(random.choices(string.ascii_letters + string.digits, k=char_count))\n",
    "        user_ids.append(user_id)\n",
    "    \n",
    "    return user_ids\n",
    "\n",
    "# Example usage\n",
    "result = user_id_gen_by_user()\n",
    "for user_id in result:\n",
    "    print(user_id)\n"
   ]
  },
  {
   "cell_type": "markdown",
   "metadata": {},
   "source": [
    "No. 3 Write a function named rgb_color_gen. It will generate rgb colors (3 values ranging from 0 to 255 each).\n",
    "print(rgb_color_gen())\n",
    "# rgb(125,244,255) - the output should be in this form"
   ]
  },
  {
   "cell_type": "code",
   "execution_count": 3,
   "metadata": {},
   "outputs": [
    {
     "name": "stdout",
     "output_type": "stream",
     "text": [
      "rgb(200,244,247)\n"
     ]
    }
   ],
   "source": [
    "import random\n",
    "\n",
    "def rgb_color_gen():\n",
    "    # Generate random values for red, green, and blue\n",
    "    red = random.randint(0, 255)\n",
    "    green = random.randint(0, 255)\n",
    "    blue = random.randint(0, 255)\n",
    "    \n",
    "    # Return the formatted RGB string\n",
    "    return f\"rgb({red},{green},{blue})\"\n",
    "\n",
    "# Example usage\n",
    "print(rgb_color_gen())\n"
   ]
  },
  {
   "cell_type": "markdown",
   "metadata": {},
   "source": [
    "Exercises: Level 2"
   ]
  },
  {
   "cell_type": "markdown",
   "metadata": {},
   "source": [
    "No. 1 Write a function list_of_hexa_colors which returns any number of hexadecimal colors in an array (six hexadecimal numbers written after #. Hexadecimal numeral system is made out of 16 symbols, 0-9 and first 6 letters of the alphabet, a-f. Check the task 6 for output examples)."
   ]
  },
  {
   "cell_type": "code",
   "execution_count": 4,
   "metadata": {},
   "outputs": [
    {
     "name": "stdout",
     "output_type": "stream",
     "text": [
      "['#e7ca86', '#aac794', '#eb4e33', '#cda265', '#88c510']\n"
     ]
    }
   ],
   "source": [
    "import random\n",
    "\n",
    "def list_of_hexa_colors(num_colors):\n",
    "    # Generate a list of random hexadecimal colors\n",
    "    hex_colors = []\n",
    "    for _ in range(num_colors):\n",
    "        hex_color = \"#{:06x}\".format(random.randint(0, 0xFFFFFF))\n",
    "        hex_colors.append(hex_color)\n",
    "\n",
    "    return hex_colors\n",
    "\n",
    "# Example usage\n",
    "result = list_of_hexa_colors(5)\n",
    "print(result)\n"
   ]
  },
  {
   "cell_type": "markdown",
   "metadata": {},
   "source": [
    "No. 2 Write a function list_of_rgb_colors which returns any number of RGB colors in an array."
   ]
  },
  {
   "cell_type": "code",
   "execution_count": 5,
   "metadata": {},
   "outputs": [
    {
     "name": "stdout",
     "output_type": "stream",
     "text": [
      "['rgb(27,199,165)', 'rgb(245,214,219)', 'rgb(190,216,214)', 'rgb(230,213,187)', 'rgb(196,251,201)']\n"
     ]
    }
   ],
   "source": [
    "import random\n",
    "\n",
    "def list_of_rgb_colors(num_colors):\n",
    "    # Generate a list of random RGB colors\n",
    "    rgb_colors = []\n",
    "    for _ in range(num_colors):\n",
    "        red = random.randint(0, 255)\n",
    "        green = random.randint(0, 255)\n",
    "        blue = random.randint(0, 255)\n",
    "        rgb_color = f\"rgb({red},{green},{blue})\"\n",
    "        rgb_colors.append(rgb_color)\n",
    "\n",
    "    return rgb_colors\n",
    "\n",
    "# Example usage\n",
    "result = list_of_rgb_colors(5)\n",
    "print(result)\n"
   ]
  },
  {
   "cell_type": "markdown",
   "metadata": {},
   "source": [
    "No. 3 Write a function generate_colors which can generate any number of hexa or rgb colors.\n",
    "   generate_colors('hexa', 3) # ['#a3e12f','#03ed55','#eb3d2b'] \n",
    "   generate_colors('hexa', 1) # ['#b334ef']\n",
    "   generate_colors('rgb', 3)  # ['rgb(5, 55, 175','rgb(50, 105, 100','rgb(15, 26, 80'] \n",
    "   generate_colors('rgb', 1)  # ['rgb(33,79, 176)']"
   ]
  },
  {
   "cell_type": "code",
   "execution_count": 6,
   "metadata": {},
   "outputs": [
    {
     "name": "stdout",
     "output_type": "stream",
     "text": [
      "Hexadecimal Colors (3): ['#12d9a2', '#3fec2b', '#a23b08']\n",
      "Hexadecimal Colors (1): ['#7fd1c7']\n",
      "RGB Colors (3): ['rgb(241,180,240)', 'rgb(76,121,5)', 'rgb(231,39,72)']\n",
      "RGB Colors (1): ['rgb(229,79,75)']\n"
     ]
    }
   ],
   "source": [
    "import random\n",
    "\n",
    "def generate_colors(color_format, num_colors):\n",
    "    colors = []\n",
    "\n",
    "    for _ in range(num_colors):\n",
    "        if color_format == 'hexa':\n",
    "            hex_color = \"#{:02x}{:02x}{:02x}\".format(random.randint(0, 255), random.randint(0, 255), random.randint(0, 255))\n",
    "            colors.append(hex_color)\n",
    "        elif color_format == 'rgb':\n",
    "            red = random.randint(0, 255)\n",
    "            green = random.randint(0, 255)\n",
    "            blue = random.randint(0, 255)\n",
    "            rgb_color = f\"rgb({red},{green},{blue})\"\n",
    "            colors.append(rgb_color)\n",
    "        else:\n",
    "            raise ValueError(\"Invalid color format. Choose 'hexa' or 'rgb'.\")\n",
    "\n",
    "    return colors\n",
    "\n",
    "# Example usage\n",
    "hex_colors_3 = generate_colors('hexa', 3)\n",
    "hex_colors_1 = generate_colors('hexa', 1)\n",
    "rgb_colors_3 = generate_colors('rgb', 3)\n",
    "rgb_colors_1 = generate_colors('rgb', 1)\n",
    "\n",
    "print(\"Hexadecimal Colors (3):\", hex_colors_3)\n",
    "print(\"Hexadecimal Colors (1):\", hex_colors_1)\n",
    "print(\"RGB Colors (3):\", rgb_colors_3)\n",
    "print(\"RGB Colors (1):\", rgb_colors_1)\n"
   ]
  },
  {
   "cell_type": "markdown",
   "metadata": {},
   "source": [
    "Exercises: Level 3"
   ]
  },
  {
   "cell_type": "markdown",
   "metadata": {},
   "source": [
    "No. 1 Call your function shuffle_list, it takes a list as a parameter and it returns a shuffled list"
   ]
  },
  {
   "cell_type": "code",
   "execution_count": 7,
   "metadata": {},
   "outputs": [
    {
     "name": "stdout",
     "output_type": "stream",
     "text": [
      "Original List: [1, 2, 3, 4, 5]\n",
      "Shuffled List: [3, 2, 5, 4, 1]\n"
     ]
    }
   ],
   "source": [
    "import random\n",
    "\n",
    "def shuffle_list(input_list):\n",
    "    shuffled_list = list(input_list)\n",
    "    random.shuffle(shuffled_list)\n",
    "    return shuffled_list\n",
    "\n",
    "# Example usage\n",
    "original_list = [1, 2, 3, 4, 5]\n",
    "shuffled_result = shuffle_list(original_list)\n",
    "\n",
    "print(\"Original List:\", original_list)\n",
    "print(\"Shuffled List:\", shuffled_result)\n"
   ]
  },
  {
   "cell_type": "markdown",
   "metadata": {},
   "source": [
    "No. 2 Write a function which returns an array of seven random numbers in a range of 0-9. All the numbers must be unique."
   ]
  },
  {
   "cell_type": "code",
   "execution_count": 8,
   "metadata": {},
   "outputs": [
    {
     "name": "stdout",
     "output_type": "stream",
     "text": [
      "[6, 1, 9, 7, 4, 5, 3]\n"
     ]
    }
   ],
   "source": [
    "import random\n",
    "\n",
    "def seven_unique_random_numbers():\n",
    "    # Generate a list of unique random numbers in the range 0-9\n",
    "    unique_numbers = random.sample(range(10), 7)\n",
    "    \n",
    "    return unique_numbers\n",
    "\n",
    "# Example usage\n",
    "result = seven_unique_random_numbers()\n",
    "print(result)\n"
   ]
  }
 ],
 "metadata": {
  "kernelspec": {
   "display_name": "datascience",
   "language": "python",
   "name": "python3"
  },
  "language_info": {
   "codemirror_mode": {
    "name": "ipython",
    "version": 3
   },
   "file_extension": ".py",
   "mimetype": "text/x-python",
   "name": "python",
   "nbconvert_exporter": "python",
   "pygments_lexer": "ipython3",
   "version": "3.11.7"
  }
 },
 "nbformat": 4,
 "nbformat_minor": 2
}
